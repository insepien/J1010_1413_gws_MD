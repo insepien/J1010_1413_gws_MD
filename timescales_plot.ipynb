{
 "cells": [
  {
   "cell_type": "markdown",
   "metadata": {},
   "source": [
    "# Timescales "
   ]
  },
  {
   "cell_type": "markdown",
   "metadata": {},
   "source": [
    "We would like to find and plot the relevant timescales for our binary as a function of separation. The main stages of our binary's evolution are: (1) dynamical friction, (2) stellar hardening, and (3) GW emission. We will also include the timescales for gas infall. Below we give the relevant equations for all of these processes. Note that this notebook is based off of Chiara Mingarelli's \"Binary_Residence_Time.ipynb\" notebook in her [nanohertz_GWs](https://github.com/ChiaraMingarelli/nanohertz_GWs) repository."
   ]
  },
  {
   "cell_type": "markdown",
   "metadata": {},
   "source": [
    " The dynamical friction timescale is (Binney & Tremaine [BT] Eq. 8.12):\n",
    " \n",
    "\\begin{equation}\n",
    "    t_{\\rm{dyn}} = \\frac{19\\ \\rm{Gyr}}{\\ln \\Lambda} \\left( \\frac{a}{5\\ \\rm{kpc}}\\right)^2 \\frac{\\sigma}{200\\ \\rm{km/s}} \\frac{10^8\\ M_{\\odot}}{M_2} \\; , \n",
    "\\end{equation}\n",
    "\n",
    "where $a$ is the current semi-major axis of the binary, $\\sigma$ is the velocity dispersion of the stars, and $M_2$ is the mass of the lighter black hole. The final part of the equation is the Coulomb logarithm, which is given by (BT Eq. 8.1b):\n",
    "\n",
    "\\begin{equation}\n",
    "    \\Lambda \\approx \\frac{a\\sigma^2}{GM_1} \\; ,\n",
    "\\end{equation}\n",
    "\n",
    "Dynamical friction will remain dominant until the pair become a hard binary, which occurs when $v_{\\rm{binary}} > v_{\\rm{stars}}$ (where these are both circular velocities). \n",
    "\n",
    "After this point, the binary should experience orbital decay due to 3-body interactions (otherwise referred to as stellar hardening). The timescale for this to occur is highly dependent on the stellar profile. We will follow previously used procedures (see Sesana & Khan 2015, Mingarelli+ 2017). The timescale is given as:\n",
    "\n",
    "\\begin{equation}\n",
    "    t_{\\rm{hard}} = \\frac{\\sigma_{\\rm{inf}}}{G H \\rho_{\\rm{inf}} a_{\\star/\\rm{gw}}}\\; ,\n",
    "\\end{equation}\n",
    "\n",
    "where $\\sigma_{\\rm{inf}}$ is the velocity dispersion at the BH influence radius, $\\rho_{\\rm{inf}}$ is the density at the BH influence radius, $H = 15$ is the dimensionless hardening rate constant, and $a_{\\star/\\rm{gw}}$ is the separation at which GW emission takes over (see Sesana & Khan 2015 for all of these equations). In this notebook, we also include the BT equations for this process in this notebook, just as an extra check.\n",
    "\n",
    "\n",
    "Since our AGN are both accreting, we will assume that gas infall can also play a role in shrinking the orbit. This timescale is given as (Begelman 1980, Eq. 5):\n",
    "\n",
    "$$t_{\\rm{gas}} \\sim \\frac{M_{1}}{M_{\\odot}} \\left(\\frac{\\dot{M}}{1~M_{\\odot}/\\rm{yr}}\\right)^{-1}~\\rm{yr}$$\n",
    "\n",
    "Finally, we expect our SMBH pair to go through the GW emission phase with a timescale of (BT Eq. 8.23):\n",
    "\n",
    "\\begin{equation}\n",
    "    t_{\\rm{gw}} = 5.81~\\rm{Myr} \\left( \\frac{a}{0.01~\\rm{pc}}\\right)^4 \\left( \\frac{10^8~M_{\\odot}}{M_1+M_2}\\right)^3 \\frac{(M_1+M_2)^2}{M_1M_2} \\; . \n",
    "\\end{equation}\n",
    "\n",
    "Below, we solve for all of these timescales, along with a few other quantities of interest."
   ]
  },
  {
   "cell_type": "code",
   "execution_count": 1,
   "metadata": {
    "collapsed": false
   },
   "outputs": [],
   "source": [
    "## Import necessary packages\n",
    "import numpy as np\n",
    "import astropy.units as u\n",
    "import astropy.constants as const\n",
    "from astropy.cosmology import WMAP9 as cosmo\n",
    "import seaborn as sns\n",
    "import matplotlib.pyplot as plt\n",
    "\n",
    "## Set plot parameters\n",
    "%matplotlib inline\n",
    "sns.set_context(\"paper\",font_scale=1.5)\n",
    "sns.set_style('ticks')\n",
    "sns.set_palette('colorblind')\n",
    "figparams = {'font.family': 'DejaVu Sans',\n",
    "        'font.serif':'Times',\n",
    "        'text.latex.preamble': [r'\\usepackage{amsmath}'],\n",
    "        'text.usetex':True}\n",
    "plt.rcParams.update(figparams)\n",
    "cs = plt.rcParams['axes.prop_cycle'].by_key()['color']\n",
    "prange = lambda _: print('min:', np.min(_), 'max:', np.max(_))\n",
    "pshape = lambda _: print(np.shape(_))"
   ]
  },
  {
   "cell_type": "code",
   "execution_count": 2,
   "metadata": {
    "collapsed": false
   },
   "outputs": [],
   "source": [
    "### measured params\n",
    "mbh = 4.e8*u.Msun\n",
    "mtot_bh = 8.e8*u.Msun\n",
    "z = 0.198\n",
    "sep = 430*u.pc\n",
    "a = sep/2. ## semi-major axis assuming circular orbit w/ equal masses.\n",
    "mstartot = 1.e11*u.Msun ##total stellar mass; actually ranges from 0.7-1.5e11\n",
    "lbol = 5.e46*u.erg/u.s ## bolometric luminosity of each AGN. This is measured from the [OIII] line flux.\n",
    "\n",
    "### extra params\n",
    "gamma = 1. ## Hernquist profile\n",
    "\n",
    "\n",
    "### GW observation params -- max and min obs. freqs.\n",
    "lisa_min = 0.1*u.Hz\n",
    "lisa_max = 1.e-4*u.Hz\n",
    "pta_min = 1.e-9*u.Hz\n",
    "pta_max = 1.e-7*u.Hz"
   ]
  },
  {
   "cell_type": "code",
   "execution_count": 3,
   "metadata": {
    "collapsed": false
   },
   "outputs": [],
   "source": [
    "### Dynamics Functions\n",
    "def coulomb_log(a_, sigma_, M1_):\n",
    "    '''\n",
    "    Find the Coulomb Logarithm given binary separation,\n",
    "    stellar vel. disp. and the mass of the larger BH.\n",
    "    Computed according to Binney & Tremaine (BT) equation 8.1b \n",
    "    using binary semi-major axis instead of bmax,\n",
    "    as mentioned on BT page 652.\n",
    "    '''\n",
    "    return np.log10((a_*sigma_**2/(const.G*M1_)).to(''))\n",
    "def vel_disp(mstar_, r_):\n",
    "    \"\"\"\n",
    "    Find the expected stellar velocity dispersion\n",
    "    using virial theorem\n",
    "    \"\"\"\n",
    "    return (np.sqrt(const.G*mstar_/r_)).to(u.km/u.s)\n",
    "def vel_disp_zahid(Mstar_):\n",
    "    '''\n",
    "    find velocity dispersion using Faber-Jackson\n",
    "    from Zahid+ 2016, Eq. 5, Table 1 fits.\n",
    "    assume log(Mb)>10.3 Msun; use SDSS values\n",
    "    '''\n",
    "    logsigmab = 2.2969 #\\pm 0.0006; in km/s\n",
    "    alpha2 = 0.299 #\\pm 0.001\n",
    "    logAns = logsigmab + alpha2*np.log10(Mstar_/(1.e11*u.Msun))\n",
    "    return (10**logAns)*u.km/u.s\n",
    "def vel_disp_kormendyho(Mbh_tot_):\n",
    "    '''\n",
    "    find velocity dispersion in the bulge given\n",
    "    Kormendy \\& Ho (2013) Eq.7\n",
    "    '''\n",
    "    mterm = Mbh_tot_/(1.e9*u.Msun)\n",
    "    return (mterm/0.310)**(1./4.38)*200*u.km/u.s\n",
    "def find_mbulge(Mbh_tot_):\n",
    "    '''\n",
    "    find mbulge from mbh\n",
    "    Kormendy \\& Ho (2013) Eq. 10\n",
    "    '''\n",
    "    mterm = Mbh_tot_/(1.e9*u.Msun)\n",
    "    return (mterm/0.49)**(1./1.17)*1.e11*u.Msun\n",
    "def find_reff(Mstar_):\n",
    "    '''\n",
    "    Find effective radius for galaxy given mstar.\n",
    "    Uses Eq. 4 of Dabringhausen, Hilker \\& Kroupa (2008)\n",
    "    note: although this paper talks mostly about dwarfs,\n",
    "    they do find that this particular equation fits\n",
    "    massive ellipticals with M\\gtrsim 10^11 Msun well.\n",
    "    '''\n",
    "    a = 2.95 \n",
    "    b = 0.596\n",
    "    return (a*(Mstar_/(1.e6*u.Msun))**b)*u.pc\n",
    "def orbital_vel(m1_, m2_, a_):\n",
    "    '''\n",
    "    gives Keplerian orbital velocity\n",
    "    assumes circular orbit\n",
    "    '''\n",
    "    return (np.sqrt(const.G*(m1_+m2_)/a_)).to(u.km/u.s)\n",
    "def find_sep_given_vc(m1_,m2_,vc):\n",
    "    '''\n",
    "    gives binary separation where \n",
    "    orbital vel = vc\n",
    "    assumes circular orbit\n",
    "    '''\n",
    "    return (2*const.G*(m1_+m2_)/vc**2).to(u.pc)\n",
    "def dyn_timescale(m_, sigma_, a_, coulomb_log_):\n",
    "    \"\"\"\"\n",
    "    Finds the dynamical timescale.\n",
    "    Computed according to equation 8.12 in B&T\n",
    "    m_ is the secondary BH\n",
    "    sigma_ is the vel disp of the stars in the core\n",
    "    a_ is the initial semimajor axis\n",
    "    \"\"\"\n",
    "    prefactor = 19./coulomb_log_\n",
    "    aterm = (a_/(5.*u.kpc))**2\n",
    "    vterm = sigma_/(200*u.km/u.s)\n",
    "    mterm = (10**8*u.Msun/m_)\n",
    "    return (prefactor*aterm*vterm*mterm*u.Gyr).to(u.Myr)\n",
    "def find_dyn_hard_radius(m1_,m2_, mstar_, reff_):\n",
    "    '''\n",
    "    finds when stellar hardening takes over from\n",
    "    dynamical friction\n",
    "    uses Begelman+ (1980) Eq. in paragraph above Eq. 2\n",
    "    should use rcore and mstar in core instead of reff\n",
    "    and total mstar....that's why we don't actually use this.\n",
    "    '''\n",
    "    rb = (m1_/mstar_)**(1./3.)*reff_\n",
    "    print(\"Binary radius is:\", rb)\n",
    "    return ((rb/reff_)**3*reff_).to(u.pc)\n",
    "def dehnen_scale_radius(reff_, gamma_):\n",
    "    \"\"\"\n",
    "    Find core scale radius given bulge effective radius\n",
    "    Dehnen 1993\n",
    "    reff is effective radius of bulge\n",
    "    \"\"\"\n",
    "    gammaterm = (2.**(1./(3-gamma_))-1)/0.75\n",
    "    return reff_*gammaterm\n",
    "def influence_radius(mtot_bh_,mstar_, gamma_,reff_):\n",
    "    \"\"\"\n",
    "    find influence radius for BHs.\n",
    "    i.e. the radius containing twice the binary mass in stars\n",
    "    this uses Sesana & Khan (2015) eq. just below Eqn. 7\n",
    "    reff_ = effective stellar radius for bulge\n",
    "    gamma = stellar density power law Dehnen profile\n",
    "    \"\"\"\n",
    "    r0_ = dehnen_scale_radius(reff_, gamma_)\n",
    "    denom = ((mstar_/(2*mtot_bh_))**(1./(3.-gamma_))) - 1. \n",
    "    return r0_/denom\n",
    "def star_density_profile(mstar_, gamma_, reff_, r_):\n",
    "    \"\"\"\n",
    "    density profile for stars. using Dehnen profile (see B&T p. 70)\n",
    "    here we use the version seen in Eq. 1 of Sesana & Khan 2015\n",
    "    \"\"\"\n",
    "    r0_ = dehnen_scale_radius(reff_, gamma_)\n",
    "    mterm = (3.-gamma_)*mstar_/(4.*np.pi)\n",
    "    rtermdenom = r_**(gamma_)*(r_+r0_)**(4.-gamma_)\n",
    "    rterm = r0_/rtermdenom\n",
    "    return (mterm*rterm).to(u.Msun/u.pc**3)\n",
    "def hard_gw_scale(m1_,m2_,mstar_,gamma_,reff_,H_const_=15, eccentricity_=0):\n",
    "    \"\"\"\n",
    "    semi-major axis at which gw's start to take over from hard binary interactions\n",
    "    gamma_ = density profile for stars. 1 is for Hernquist profile \n",
    "    H_ = hardening constant\n",
    "    \"\"\"\n",
    "    mtot_bh_ = m1_+m2_\n",
    "    rinf_ = influence_radius(mtot_bh_, mstar_, gamma_,reff_)\n",
    "    rhoinf_ = star_density_profile(mstar_, gamma_, reff_, rinf_)\n",
    "    sigmainf_ = vel_disp_kormendyho(mtot_bh_)\n",
    "    eterm = (1-eccentricity_**2)**(-7./2.)*(1+73./24.*eccentricity_**2+37./96.*eccentricity_**4)\n",
    "    num = 64.*const.G**2*sigmainf_*m1_*m2_*mtot_bh_*eterm\n",
    "    denom = 5.*const.c**5*H_const_*rhoinf_\n",
    "    return ((num/denom)**(1./5.)).to(u.pc)\n",
    "def hard_timescale(m1_,m2_, mstar_,gamma_, reff_, H_const_=15):\n",
    "    \"\"\"\n",
    "    Total stellar hardening timescale using eqn. 7 in Sesana & Khan 2015\n",
    "    \"\"\"\n",
    "    mtot_bh_ = m1_+m2_\n",
    "    rinf_ = influence_radius(mtot_bh_, mstar_, gamma_,reff_)\n",
    "    rhoinf_ = star_density_profile(mstar_, gamma_, reff_, rinf_)\n",
    "    rhardgw = hard_gw_scale(m1_,m2_,mstar_,gamma_,reff_)\n",
    "    sigmainf = vel_disp_kormendyho(mtot_bh_)\n",
    "    return (sigmainf/(const.G*H_const_*rhoinf_*rhardgw)).to(u.Myr)\n",
    "def hard_time_func(m1_,m2_, mstar_,gamma_, reff_, a_, H_const_=15):\n",
    "    \"\"\"\n",
    "    Stellar hardening time using eqn. 7 in Sesana & Khan 2015\n",
    "    Find time until reaching a semi-major axis a_\n",
    "    \"\"\"\n",
    "    mtot_bh_ = m1_+m2_\n",
    "    rinf_ = influence_radius(mtot_bh_, mstar_, gamma_,reff_)\n",
    "    rhoinf_ = star_density_profile(mstar_, gamma_, reff_, rinf_)\n",
    "    sigmainf = vel_disp_zahid(mstar_)\n",
    "    return (sigmainf/(const.G*H_const_*rhoinf_*a_)).to(u.Myr)\n",
    "def find_dyn_hard_radius(m1_,m2_, mstar_, reff_):\n",
    "    '''\n",
    "    finds when stellar hardening takes over from\n",
    "    dynamical friction\n",
    "    uses Begelman+ (1980) Eq. in paragraph above Eq. 2\n",
    "    '''\n",
    "    rb = (m1_/mstar_)**(1./3.)*reff_\n",
    "    return ((rb/reff_)**3*reff_).to(u.pc)\n",
    "def BT_dyn_hard_radius(m1_,m2_, veldisp_):\n",
    "    '''\n",
    "    finds semi-major axis\n",
    "    when stellar hardening takes over from\n",
    "    dynamical friction\n",
    "    BT Eq. 8.19\n",
    "    '''\n",
    "    massterm = (m1_+m2_)/(10**8*u.Msun)\n",
    "    velterm = ((200*u.km/u.s)/veldisp_)**2\n",
    "    return (10*u.pc*massterm*velterm).to(u.pc)\n",
    "def king_radius(mstar_, reff_, veldisp_):\n",
    "    '''\n",
    "    finds the king radius for a galaxy\n",
    "    ie. radius for isothermal sphere\n",
    "    BT Eq. 4.106\n",
    "    '''\n",
    "    rho = mstar_/(4./3.*np.pi*reff**3)\n",
    "    return (np.sqrt(9./4.*veldisp**2/(np.pi*const.G*rho))).to(u.kpc)\n",
    "def BT_hard_timescale(a_, veldisp_, mstar_, reff_):\n",
    "    '''\n",
    "    finds the stellar hardening timescale\n",
    "    according to BT 8.21\n",
    "    this assumes a constant density core for the galaxy\n",
    "    '''\n",
    "    r0 = king_radius(mstar_, reff_, veldisp_)\n",
    "    aterm = 0.005*u.pc/a_\n",
    "    velterm = 200.*u.km/u.s/veldisp_\n",
    "    rterm = (r0/(100.*u.pc))**2\n",
    "    return (aterm*velterm*rterm*u.Gyr).to(u.Gyr)\n",
    "def find_mdot(lbol_, eps_=0.1):\n",
    "    '''\n",
    "    Find the accretion rate given the bolometric luminosity.\n",
    "    This assumes an accretion efficiency of 10%.\n",
    "    '''\n",
    "    return (lbol_/(eps_*const.c**2)).to(u.Msun/u.yr)\n",
    "def gas_timescale(m1_, mdot_):\n",
    "    '''\n",
    "    Find the gas timescale given the larger mass BH and the\n",
    "    accretion rate\n",
    "    Begelman+ 1980, Eq. 5\n",
    "    '''\n",
    "    return (m1_*((1.*u.Msun/u.yr)/mdot_)*u.yr/u.Msun).to(u.Myr)"
   ]
  },
  {
   "cell_type": "code",
   "execution_count": 4,
   "metadata": {
    "collapsed": true
   },
   "outputs": [],
   "source": [
    "### GW functions\n",
    "def chirp_mass(m1_, m2_):\n",
    "    '''\n",
    "    Finds the chirp mass given the two black hole masses\n",
    "    '''\n",
    "    return (m1_*m2_*(m1_+m2_)**(-1./3.))**(3./5.)\n",
    "def max_frequency(m1_,m2_,z_):\n",
    "    '''\n",
    "    find max observed GW frequency for coalesence\n",
    "    '''\n",
    "    scaledm1 = (m1_/(10**8*u.Msun))**(-1)\n",
    "    combm1m2 = (1+m2_/m1_)**(1/2)\n",
    "    invz = (1.+z_)**(-1.)\n",
    "    return (4.4e-5*invz*scaledm1*combm1m2)*u.Hz\n",
    "def gw_freq_to_pc(mtot_bh_, gw_freq_, z_):\n",
    "    '''\n",
    "    give the binary semi-major axis for a given observed gw freq.\n",
    "    '''\n",
    "    freq_ = gw_freq_/(1+z_)/(2.) ##the gw's we observe are twice the orbital freq of binary\n",
    "    return ((const.G*mtot_bh_/(2.*np.pi*freq_)**2)**(1./3.)).to(u.pc)\n",
    "def gw_pc_to_freq(mtot_bh_, a_, z_):\n",
    "    '''\n",
    "    convert from binary semi-major axis to gw observed frequency\n",
    "    '''\n",
    "    period  = (2*np.pi*np.sqrt(a_**3/(const.G*(mtot_bh_)))).to(u.Myr)\n",
    "    fp = 1/period\n",
    "    return (2*fp/(1+z_)).to(u.Hz)\n",
    "def gw_time(m1_, m2_, z_, a_):\n",
    "    '''\n",
    "    give the gw timescale\n",
    "    BT Eq. 8.23\n",
    "    '''\n",
    "    chirpmass_ = chirp_mass(m1_, m2_)\n",
    "    freq_ = gw_pc_to_freq(m1_+m2_,a_,z_)\n",
    "    num = 5*const.c**6*(const.G*chirpmass_/const.c**3)**(1./3.)\n",
    "    denom = 256.*(np.pi*freq_)**(8/3)*const.G**2*chirpmass_**2\n",
    "    return (num/denom).to(u.Myr)"
   ]
  },
  {
   "cell_type": "markdown",
   "metadata": {},
   "source": [
    "### Find dynamical timescale"
   ]
  },
  {
   "cell_type": "code",
   "execution_count": 5,
   "metadata": {
    "collapsed": false
   },
   "outputs": [
    {
     "data": {
      "text/latex": [
       "$2817.2281 \\; \\mathrm{pc}$"
      ],
      "text/plain": [
       "<Quantity 2817.22812876 pc>"
      ]
     },
     "execution_count": 5,
     "metadata": {},
     "output_type": "execute_result"
    }
   ],
   "source": [
    "##First find reff\n",
    "reff = find_reff(mstartot)\n",
    "reff"
   ]
  },
  {
   "cell_type": "code",
   "execution_count": 6,
   "metadata": {
    "collapsed": false
   },
   "outputs": [
    {
     "data": {
      "text/latex": [
       "$198.10708 \\; \\mathrm{\\frac{km}{s}}$"
      ],
      "text/plain": [
       "<Quantity 198.10708149 km / s>"
      ]
     },
     "execution_count": 6,
     "metadata": {},
     "output_type": "execute_result"
    }
   ],
   "source": [
    "## Now get vel. dispersion.\n",
    "# veldisp = vel_disp(mstartot, reff)\n",
    "veldisp = vel_disp_zahid(mstartot)\n",
    "veldisp"
   ]
  },
  {
   "cell_type": "code",
   "execution_count": 7,
   "metadata": {
    "collapsed": false
   },
   "outputs": [
    {
     "data": {
      "text/latex": [
       "$248.33154 \\; \\mathrm{\\frac{km}{s}}$"
      ],
      "text/plain": [
       "<Quantity 248.33154418 km / s>"
      ]
     },
     "execution_count": 7,
     "metadata": {},
     "output_type": "execute_result"
    }
   ],
   "source": [
    "## Find veldisp given by kormendy and ho, just to check.\n",
    "vel_disp_kormendyho(mtot_bh)"
   ]
  },
  {
   "cell_type": "code",
   "execution_count": 8,
   "metadata": {
    "collapsed": false
   },
   "outputs": [
    {
     "data": {
      "text/latex": [
       "$0.69061738 \\; \\mathrm{}$"
      ],
      "text/plain": [
       "<Quantity 0.69061738>"
      ]
     },
     "execution_count": 8,
     "metadata": {},
     "output_type": "execute_result"
    }
   ],
   "source": [
    "## Now get coulomb log -- can't just use ln Lambda = 10 for this system.\n",
    "## Use sep/2. since both BHs are falling in\n",
    "coulog = coulomb_log(a, veldisp, mbh)\n",
    "coulog"
   ]
  },
  {
   "cell_type": "code",
   "execution_count": 9,
   "metadata": {
    "collapsed": false
   },
   "outputs": [
    {
     "data": {
      "text/latex": [
       "$126.5046 \\; \\mathrm{\\frac{km}{s}}$"
      ],
      "text/plain": [
       "<Quantity 126.50459714 km / s>"
      ]
     },
     "execution_count": 9,
     "metadata": {},
     "output_type": "execute_result"
    }
   ],
   "source": [
    "## Compare to current AGN pair orbital velocity\n",
    "orbital_vel(mbh,mbh,a) ##So, it's currently less than vc = sqrt(2)*vel. disp. -- i.e. not a hard binary yet.\n",
    "##note that this is still the case if we take vc = Delta v (from Magellan). In this case vc ~ veldisp."
   ]
  },
  {
   "cell_type": "code",
   "execution_count": 10,
   "metadata": {
    "collapsed": false
   },
   "outputs": [
    {
     "data": {
      "text/latex": [
       "$81.536108 \\; \\mathrm{pc}$"
      ],
      "text/plain": [
       "<Quantity 81.5361082 pc>"
      ]
     },
     "execution_count": 10,
     "metadata": {},
     "output_type": "execute_result"
    }
   ],
   "source": [
    "## When will they become a hard binary?\n",
    "adynhard = BT_dyn_hard_radius(mbh,mbh,veldisp)\n",
    "adynhard"
   ]
  },
  {
   "cell_type": "code",
   "execution_count": 11,
   "metadata": {
    "collapsed": false
   },
   "outputs": [
    {
     "data": {
      "text/latex": [
       "$12.596881 \\; \\mathrm{Myr}$"
      ],
      "text/plain": [
       "<Quantity 12.59688086 Myr>"
      ]
     },
     "execution_count": 11,
     "metadata": {},
     "output_type": "execute_result"
    }
   ],
   "source": [
    "## Find timescale given current separation\n",
    "## Use sep/2. since both BHs are falling in\n",
    "dyn_timescale(mbh, veldisp, a, coulomb_log_=coulog)"
   ]
  },
  {
   "cell_type": "markdown",
   "metadata": {},
   "source": [
    "### Stellar Hardening Phase"
   ]
  },
  {
   "cell_type": "code",
   "execution_count": 12,
   "metadata": {
    "collapsed": false
   },
   "outputs": [
    {
     "data": {
      "text/latex": [
       "$1555.9121 \\; \\mathrm{pc}$"
      ],
      "text/plain": [
       "<Quantity 1555.91213231 pc>"
      ]
     },
     "execution_count": 12,
     "metadata": {},
     "output_type": "execute_result"
    }
   ],
   "source": [
    "## Find core scale radius\n",
    "dehnenr = dehnen_scale_radius(reff,gamma)\n",
    "dehnenr"
   ]
  },
  {
   "cell_type": "code",
   "execution_count": 13,
   "metadata": {
    "collapsed": false
   },
   "outputs": [
    {
     "data": {
      "text/latex": [
       "$225.30858 \\; \\mathrm{pc}$"
      ],
      "text/plain": [
       "<Quantity 225.30857846 pc>"
      ]
     },
     "execution_count": 13,
     "metadata": {},
     "output_type": "execute_result"
    }
   ],
   "source": [
    "## Find influence radius\n",
    "rinf = influence_radius(mtot_bh, mstartot, gamma,reff)\n",
    "rinf"
   ]
  },
  {
   "cell_type": "code",
   "execution_count": 14,
   "metadata": {
    "collapsed": false
   },
   "outputs": [
    {
     "data": {
      "text/latex": [
       "$19.447969 \\; \\mathrm{\\frac{M_{\\odot}}{pc^{3}}}$"
      ],
      "text/plain": [
       "<Quantity 19.44796942 solMass / pc3>"
      ]
     },
     "execution_count": 14,
     "metadata": {},
     "output_type": "execute_result"
    }
   ],
   "source": [
    "## Find stellar density at influence radius\n",
    "rhoinf = star_density_profile(mstartot, gamma, reff, rinf)\n",
    "rhoinf"
   ]
  },
  {
   "cell_type": "code",
   "execution_count": 15,
   "metadata": {
    "collapsed": false
   },
   "outputs": [
    {
     "data": {
      "text/latex": [
       "$0.10127471 \\; \\mathrm{pc}$"
      ],
      "text/plain": [
       "<Quantity 0.10127471 pc>"
      ]
     },
     "execution_count": 15,
     "metadata": {},
     "output_type": "execute_result"
    }
   ],
   "source": [
    "## Find when GWs start to take over from 3b interactions\n",
    "ahardsep = hard_gw_scale(mbh, mbh, mstartot, gamma, reff)\n",
    "ahardsep"
   ]
  },
  {
   "cell_type": "code",
   "execution_count": 16,
   "metadata": {
    "collapsed": false
   },
   "outputs": [
    {
     "data": {
      "text/latex": [
       "$1.9109568 \\; \\mathrm{Gyr}$"
      ],
      "text/plain": [
       "<Quantity 1.91095677 Gyr>"
      ]
     },
     "execution_count": 16,
     "metadata": {},
     "output_type": "execute_result"
    }
   ],
   "source": [
    "## Find the max expected timescale for stellar hardening\n",
    "hard_timescale(mbh,mbh, mstartot, gamma,reff).to(u.Gyr)"
   ]
  },
  {
   "cell_type": "code",
   "execution_count": 17,
   "metadata": {
    "collapsed": false
   },
   "outputs": [
    {
     "data": {
      "text/latex": [
       "$1524.4703 \\; \\mathrm{Myr}$"
      ],
      "text/plain": [
       "<Quantity 1524.47031998 Myr>"
      ]
     },
     "execution_count": 17,
     "metadata": {},
     "output_type": "execute_result"
    }
   ],
   "source": [
    "## What's the timescale at the gw emission radius?\n",
    "hard_time_func(mbh, mbh, mstartot, gamma, reff, ahardsep)"
   ]
  },
  {
   "cell_type": "markdown",
   "metadata": {},
   "source": [
    "### Gas Timescale"
   ]
  },
  {
   "cell_type": "code",
   "execution_count": 18,
   "metadata": {
    "collapsed": false
   },
   "outputs": [
    {
     "data": {
      "text/latex": [
       "$8.8290167 \\; \\mathrm{\\frac{M_{\\odot}}{yr}}$"
      ],
      "text/plain": [
       "<Quantity 8.82901673 solMass / yr>"
      ]
     },
     "execution_count": 18,
     "metadata": {},
     "output_type": "execute_result"
    }
   ],
   "source": [
    "## First, find max accretion rate\n",
    "find_mdot(lbol)"
   ]
  },
  {
   "cell_type": "code",
   "execution_count": 19,
   "metadata": {
    "collapsed": false
   },
   "outputs": [
    {
     "data": {
      "text/latex": [
       "$45.305158 \\; \\mathrm{Myr}$"
      ],
      "text/plain": [
       "<Quantity 45.30515825 Myr>"
      ]
     },
     "execution_count": 19,
     "metadata": {},
     "output_type": "execute_result"
    }
   ],
   "source": [
    "## Now get smallest timescale\n",
    "gas_timescale(mbh,find_mdot(lbol))"
   ]
  },
  {
   "cell_type": "code",
   "execution_count": 20,
   "metadata": {
    "collapsed": false
   },
   "outputs": [
    {
     "data": {
      "text/latex": [
       "$453.05158 \\; \\mathrm{Myr}$"
      ],
      "text/plain": [
       "<Quantity 453.05158246 Myr>"
      ]
     },
     "execution_count": 20,
     "metadata": {},
     "output_type": "execute_result"
    }
   ],
   "source": [
    "## Largest timescale\n",
    "gas_timescale(mbh, 0.1*find_mdot(lbol))"
   ]
  },
  {
   "cell_type": "markdown",
   "metadata": {},
   "source": [
    "### GW Emission Phase"
   ]
  },
  {
   "cell_type": "code",
   "execution_count": 21,
   "metadata": {
    "collapsed": false
   },
   "outputs": [
    {
     "data": {
      "text/latex": [
       "$1.2985266 \\times 10^{-5} \\; \\mathrm{Hz}$"
      ],
      "text/plain": [
       "<Quantity 1.29852664e-05 Hz>"
      ]
     },
     "execution_count": 21,
     "metadata": {},
     "output_type": "execute_result"
    }
   ],
   "source": [
    "## Find the max frequency (i.e. frequency when they reach Schwarzschild radii)\n",
    "mergefreq = max_frequency(mbh,mbh,z)\n",
    "mergefreq"
   ]
  },
  {
   "cell_type": "code",
   "execution_count": 22,
   "metadata": {
    "collapsed": false
   },
   "outputs": [
    {
     "data": {
      "text/latex": [
       "$0.00014606765 \\; \\mathrm{pc}$"
      ],
      "text/plain": [
       "<Quantity 0.00014607 pc>"
      ]
     },
     "execution_count": 22,
     "metadata": {},
     "output_type": "execute_result"
    }
   ],
   "source": [
    "## Find corresponding separation\n",
    "amerge = gw_freq_to_pc(mtot_bh, mergefreq,z)\n",
    "amerge"
   ]
  },
  {
   "cell_type": "code",
   "execution_count": 23,
   "metadata": {
    "collapsed": false
   },
   "outputs": [
    {
     "data": {
      "text/latex": [
       "$3.3467346 \\times 10^{-9} \\; \\mathrm{Myr}$"
      ],
      "text/plain": [
       "<Quantity 3.34673459e-09 Myr>"
      ]
     },
     "execution_count": 23,
     "metadata": {},
     "output_type": "execute_result"
    }
   ],
   "source": [
    "## Find gw timescale at merge\n",
    "mergetime = gw_time(mbh, mbh, z, amerge)\n",
    "mergetime"
   ]
  },
  {
   "cell_type": "code",
   "execution_count": 24,
   "metadata": {
    "collapsed": false
   },
   "outputs": [
    {
     "data": {
      "text/latex": [
       "$735.19929 \\; \\mathrm{Myr}$"
      ],
      "text/plain": [
       "<Quantity 735.19928705 Myr>"
      ]
     },
     "execution_count": 24,
     "metadata": {},
     "output_type": "execute_result"
    }
   ],
   "source": [
    "## Find gw timescale from a=0.1pc\n",
    "gw_time(mbh,mbh,z,0.1*u.pc)"
   ]
  },
  {
   "cell_type": "code",
   "execution_count": 25,
   "metadata": {
    "collapsed": false
   },
   "outputs": [],
   "source": [
    "## Set the binary separation ranges and find the timescales\n",
    "plotadyn = np.logspace(np.log10(adynhard.value),4., 100)*u.pc\n",
    "plotahard = np.logspace(np.log10(ahardsep.value),np.log10(adynhard.value),100)*u.pc\n",
    "plotagas = np.logspace(-1.3,np.log10(3),100)*u.pc\n",
    "plotagas2 = np.logspace(-1, -0.5, 100)*u.pc\n",
    "plotagw = np.logspace(np.log10(amerge.value),np.log10(ahardsep.value),100)*u.pc\n",
    "\n",
    "plotdyntime = dyn_timescale(mbh, veldisp, plotadyn, coulomb_log_=coulog)\n",
    "plothardtime = hard_time_func(mbh, mbh, mstartot, gamma, reff, plotahard)\n",
    "plotgastime = gas_timescale(mbh,find_mdot(lbol))*np.ones(len(plotagas))\n",
    "plotgastime2 = gas_timescale(mbh,0.1*find_mdot(lbol))*np.ones(len(plotagas2))\n",
    "plotgwtime = gw_time(mbh, mbh,z,plotagw)"
   ]
  },
  {
   "cell_type": "code",
   "execution_count": 26,
   "metadata": {
    "collapsed": false
   },
   "outputs": [
    {
     "data": {
      "image/png": "[encoded data removed]",
      "text/plain": [
       "<Figure size 576x432 with 1 Axes>"
      ]
     },
     "metadata": {},
     "output_type": "display_data"
    }
   ],
   "source": [
    "## Make the plot!\n",
    "f, ax = plt.subplots(1,1, figsize=(8,6))\n",
    "\n",
    "fsize = 20\n",
    "tsize = 18\n",
    "\n",
    "ax.tick_params(labelsize = tsize)\n",
    "ax.axvline(a.value, c='black', linestyle='dashed', linewidth=6)\n",
    "ax.axvline(1, c='black', linestyle='dotted')\n",
    "ax.axvline(ahardsep.value, c='black', linestyle='dotted')\n",
    "ax.axvspan(ahardsep.value,1., alpha=0.2, color='gray', hatch='/')\n",
    "\n",
    "\n",
    "ax.loglog(plotadyn.value, plotdyntime.value, c=cs[0], linewidth=2,label='Dynamical Friction')\n",
    "ax.loglog(plotahard.value, plothardtime.value, c=cs[1],linewidth=2, label='Stellar Hardening')\n",
    "ax.loglog(plotagas.value, plotgastime.value, c=cs[2],linewidth=2, linestyle='dashed')\n",
    "ax.fill([.05, .09, .3, 4],\n",
    "         [plotgastime.value[0], plotgastime2.value[0], plotgastime2.value[0],plotgastime.value[0]],\n",
    "         color=cs[2], alpha=0.3, hatch=\"\\\\\",label='Gas Infall')\n",
    "ax.loglog(plotagas2.value, plotgastime2.value, c=cs[2],linewidth=2, linestyle='dashed')\n",
    "\n",
    "ax.loglog(plotagw.value, plotgwtime.value, c=cs[3],linewidth=2, label='Gravitational Waves')\n",
    "\n",
    "ax.axvspan(ahardsep.value, gw_freq_to_pc(mtot_bh,pta_max,z).value, alpha=0.3,  color =cs[3]) #PTA band\n",
    "ax.annotate('PTA', xy=(7.e-3, 1.e-4),fontsize=20) \n",
    "ax.text(255, 5,r'J1010+1413: current separation (${\\sim} 430~\\rm{pc}$)', rotation=-90, fontsize=15)\n",
    "ax.text(105, 0.08,r'[semi-major axis $\\sim 215~\\rm{pc}$]', rotation=-90, fontsize=15)\n",
    "ax.text(0.2, 1.e-3, 'last', fontsize=17)\n",
    "ax.text(0.15, 1.e-4, 'parsec', fontsize=17)\n",
    "ax.text(0.11, 1.e-5, 'problem', fontsize=17)\n",
    "ax.text(0.25, 1.e-6, '?', fontsize=25)\n",
    "ax.set_xlim([5.e-5, 2.5e3])\n",
    "ax.set_ylim([1.e-9, 1.e4])\n",
    "\n",
    "ax.scatter(amerge.value, mergetime.value, marker='x', color='black',s=100)\n",
    "ax.set_xlabel('Semi-major Axis [pc]', fontsize=fsize)\n",
    "ax.set_ylabel('Timescales [Myr]', fontsize=fsize)\n",
    "handles, labels = ax.get_legend_handles_labels()\n",
    "order = [0,1,3,2]\n",
    "ax.legend([handles[idx] for idx in order],[labels[idx] for idx in order],loc='upper left',fontsize=14)\n",
    "\n",
    "f.tight_layout()\n",
    "plt.savefig('binary_lifestory.png', dpi=500)"
   ]
  }
 ],
 "metadata": {
  "kernelspec": {
   "display_name": "Python 3",
   "language": "python",
   "name": "python3"
  },
  "language_info": {
   "codemirror_mode": {
    "name": "ipython",
    "version": 3
   },
   "file_extension": ".py",
   "mimetype": "text/x-python",
   "name": "python",
   "nbconvert_exporter": "python",
   "pygments_lexer": "ipython3",
   "version": "3.6.7"
  }
 },
 "nbformat": 4,
 "nbformat_minor": 2
}
