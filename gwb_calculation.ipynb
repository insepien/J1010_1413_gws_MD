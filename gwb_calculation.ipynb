{
 "cells": [
  {
   "cell_type": "markdown",
   "metadata": {},
   "source": [
    "# Lower Limit on the Stochastic GWB \n",
    "\n",
    "To find a rough estimate of the lower limit on the stochastic GWB from our source, we will use the Phinney (2001) formalism. Eq. 5 in that paper gives us the characteristic strain of the background as a function of frequency:\n",
    "\n",
    "$$h_c^2(f) = \\frac{4G}{\\pi c^2} \\frac{1}{f^2} \\int n(z) \\frac{1}{1+z} \\left( f_r \\frac{dE_{gw}}{df_r}\\right) \\bigg|_{~f_r = f(1+z)} dz$$\n",
    "\n",
    "where $n(z)$ is the number density of sources, $f_r$ is the frequency in the rest-frame of the source, and \n",
    "\n",
    "$$\\frac{dE_{gw}}{df_r} = \\frac{\\pi}{3G} \\frac{(G\\mathcal{M})^{5/3}}{(\\pi f_r)^{1/3}}$$\n",
    "\n",
    "This equation implicitly assumes just one chirp mass for all objects. However, we would like to integrate over a range of chirp masses. We then want the number density *per mass* of objects (to make the units right). Then, our equation is:\n",
    "\n",
    "$$h_c^2(f) = \\frac{4G}{\\pi c^2} \\frac{1}{f^2} \\int n(z, \\mathcal{M}) \\frac{1}{1+z} \\left( f_r \\frac{\\pi}{3G} \\frac{(G\\mathcal{M})^{5/3}}{(\\pi f_r)^{1/3}}\\right) \\bigg|_{~f_r = f(1+z)} dz~d\\mathcal{M}$$\n",
    "\n",
    "We will compute $h_c(f)$ for three different assumptions about the number density:\n",
    "1. Our object is the only one in SDSS out to $z=0.2$ and the number density of objects is constant with both redshift and chirp mass.\n",
    "2. All objects like J1010+1413 are also binary AGN that should merge by today. In addition, we allow the number density of objects to vary with redshift in conjunction with the observed AGN number density evolution.\n",
    "3. Same as the second case, but we allow for the number density to vary with mass, following the observed local BH mass function.\n",
    "\n",
    "Note that we here ignore the issue of *when* exactly these sources will be in the PTA band -- we just assume that all of our sources would be in the PTA band by today. We also only consider equal mass mergers."
   ]
  },
  {
   "cell_type": "markdown",
   "metadata": {},
   "source": [
    "## Case 1: Only Object in SDSS + Constant Number Density\n",
    "\n",
    "We will assume that the number density per mass is *constant* and equal to what we find for our object. In other words,\n",
    "\n",
    "Specifically, we will calculate our number density per mass as:\n",
    "\n",
    "$$n_0 = \\frac{N}{\\Delta V \\Delta \\mathcal{M}}$$\n",
    "\n",
    "where $N$ is the number of sources. Note that now this number does not depend on the actual integration variables anymore. So, pulling out the number density per mass and cleaning up our equation, we find:\n",
    "\n",
    "$$h_c^2(f) = \\frac{4}{3\\pi^{1/3}c^2} \\frac{n_0}{f^{4/3}} \\int \\frac{(G\\mathcal{M})^{5/3}}{(1+z)^{1/3}} dz~d\\mathcal{M}$$\n",
    "\n",
    "To keep our code general, we will integrate from $z_{\\rm{min}}$ to $z_{\\rm{max}}$ and $\\mathcal{M}_{\\rm{min}}$ to $\\mathcal{M}_{\\rm{max}}$. Then, our final equation is:\n",
    "\n",
    "$$h_c^2(f) = \\frac{3G^{5/3}}{4\\pi^{1/3}c^2} \\frac{n_0}{f^{4/3}} \\left[(1+z_{\\rm{max}})^{2/3} - (1+z_{\\rm{min}})^{2/3}\\right]\\times \\left[\\mathcal{M}_{\\rm{max}}^{8/3} - \\mathcal{M}_{\\rm{min}}^{8/3}\\right]$$"
   ]
  },
  {
   "cell_type": "markdown",
   "metadata": {},
   "source": [
    "## Case 2: J1010+1413 has lots of buddies + number density changes with redshift\n",
    "\n",
    "In this case, we need to be a bit more careful with how we calculate the number density.\n",
    "\n",
    "Let $N_0$ refer to the number density of objects within the narrow redshift range around J1010+1413. Specifically,\n",
    "\n",
    "$$N_0 = f_{\\rm{merger}}\\frac{N}{\\Delta V(z=0.18 - 0.22)}$$\n",
    "\n",
    "where $N$ is the total number of objects that are like J1010+1413 in the redshift range z=0.18-0.22 and $f_{\\rm{merger}}$ is the observed fraction of AGN that are in merging systems at z=0.25 and with $L_{\\rm{AGN}}=10^{46}~\\rm{erg/s}$ (see Hickox+ 2014, Fig. 6, dashed, blue line).\n",
    "\n",
    "This will anchor the number density of objects contributing to the PTA band *today*. To get the number density as a function of redshift, we simply multiply this by the functional form of the observed AGN number density (Hopkins 2007), $\\hat{N}(z)$.\n",
    "\n",
    "Finally, we obtain a number density/mass just as before:\n",
    "\n",
    "$$n(z,\\mathcal{M}) = \\frac{N_0\\ \\hat{N}(z)}{\\Delta \\mathcal{M}} = n_0\\ \\hat{N}(z)$$\n",
    "\n",
    "\n",
    "For our characteristic strain, we now have:\n",
    "\n",
    "\n",
    "$$h_c^2(f) = \\frac{4}{3\\pi^{1/3}c^2} \\frac{n_0}{f^{4/3}} \\int (G\\mathcal{M})^{5/3} \\frac{\\hat{N}(z)}{(1+z)^{1/3}} dz~d\\mathcal{M}$$\n",
    "\n",
    "\n",
    "We will need to do the redshift integral numerically, but we can at least do the mass integral analytically, giving us:\n",
    "\n",
    "$$h_c^2(f) = \\frac{G^{5/3}}{2\\pi^{1/3}c^2} \\frac{n_0}{f^{4/3}} \\left[\\mathcal{M}_{\\rm{max}}^{8/3} - \\mathcal{M}_{\\rm{min}}^{8/3}\\right] \\int \\frac{\\hat{N}(z)}{(1+z)^{1/3}} dz $$"
   ]
  },
  {
   "cell_type": "markdown",
   "metadata": {},
   "source": [
    "## Case 3: J1010+1413 has lots of buddies + number density changes with redshift & mass\n",
    "\n",
    "In this case, we will allow the number density to vary with mass as well. In other words, \n",
    "\n",
    "$$n(z, \\mathcal{M}) = n_0 p(\\mathcal{M}) \\hat{N}(z)$$\n",
    "\n",
    "where $n_0$ is calculated as in case 2, and $p(\\mathcal{M})$ is the probability of having a particular chirp mass. This is set by using the BH mass function at z=0 given by Marconi+ 2004 and normalizing this function to the number density at z=0 from case 2. We set our mass ratio = 1, thus there is a simple 1-1 and onto transformation from the BH mass function  to the chirp mass function. We just transform this by setting appropriate chirp mass limits in our integration.\n",
    "\n",
    "Then, for our characteristic strain, we have:\n",
    "\n",
    "\n",
    "$$h_c^2(f) = \\frac{4}{3\\pi^{1/3}c^2} \\frac{n_0}{f^{4/3}} \\int (G\\mathcal{M})^{5/3} \\frac{p(\\mathcal{M})\\hat{N}(z)}{(1+z)^{1/3}} dz~d\\mathcal{M}$$\n",
    "\n",
    "We will have to do both of these integrals numerically now."
   ]
  },
  {
   "cell_type": "code",
   "execution_count": 1,
   "metadata": {
    "collapsed": false,
    "jupyter": {
     "outputs_hidden": false
    }
   },
   "outputs": [
    {
     "ename": "ValueError",
     "evalue": "Key text.latex.preamble: Could not convert ['\\\\usepackage{amsmath}'] to str",
     "output_type": "error",
     "traceback": [
      "\u001b[0;31m---------------------------------------------------------------------------\u001b[0m",
      "\u001b[0;31mValueError\u001b[0m                                Traceback (most recent call last)",
      "Cell \u001b[0;32mIn[1], line 22\u001b[0m\n\u001b[1;32m     16\u001b[0m sns\u001b[38;5;241m.\u001b[39mset_palette(\u001b[38;5;124m'\u001b[39m\u001b[38;5;124mcolorblind\u001b[39m\u001b[38;5;124m'\u001b[39m)\n\u001b[1;32m     17\u001b[0m figparams \u001b[38;5;241m=\u001b[39m {\u001b[38;5;124m'\u001b[39m\u001b[38;5;124mfont.family\u001b[39m\u001b[38;5;124m'\u001b[39m: \u001b[38;5;124m'\u001b[39m\u001b[38;5;124mDejaVu Sans\u001b[39m\u001b[38;5;124m'\u001b[39m,\n\u001b[1;32m     18\u001b[0m         \u001b[38;5;124m'\u001b[39m\u001b[38;5;124mfont.serif\u001b[39m\u001b[38;5;124m'\u001b[39m:\u001b[38;5;124m'\u001b[39m\u001b[38;5;124mTimes\u001b[39m\u001b[38;5;124m'\u001b[39m,\n\u001b[1;32m     19\u001b[0m         \u001b[38;5;124m'\u001b[39m\u001b[38;5;124mtext.latex.preamble\u001b[39m\u001b[38;5;124m'\u001b[39m: [\u001b[38;5;124mr\u001b[39m\u001b[38;5;124m'\u001b[39m\u001b[38;5;124m\\\u001b[39m\u001b[38;5;124musepackage\u001b[39m\u001b[38;5;132;01m{amsmath}\u001b[39;00m\u001b[38;5;124m'\u001b[39m],\n\u001b[1;32m     20\u001b[0m         \u001b[38;5;124m'\u001b[39m\u001b[38;5;124mtext.usetex\u001b[39m\u001b[38;5;124m'\u001b[39m:\u001b[38;5;28;01mTrue\u001b[39;00m,\n\u001b[1;32m     21\u001b[0m             \u001b[38;5;124m'\u001b[39m\u001b[38;5;124mhatch.linewidth\u001b[39m\u001b[38;5;124m'\u001b[39m : \u001b[38;5;241m3.0\u001b[39m}\n\u001b[0;32m---> 22\u001b[0m \u001b[43mplt\u001b[49m\u001b[38;5;241;43m.\u001b[39;49m\u001b[43mrcParams\u001b[49m\u001b[38;5;241;43m.\u001b[39;49m\u001b[43mupdate\u001b[49m\u001b[43m(\u001b[49m\u001b[43mfigparams\u001b[49m\u001b[43m)\u001b[49m\n\u001b[1;32m     23\u001b[0m cs \u001b[38;5;241m=\u001b[39m plt\u001b[38;5;241m.\u001b[39mrcParams[\u001b[38;5;124m'\u001b[39m\u001b[38;5;124maxes.prop_cycle\u001b[39m\u001b[38;5;124m'\u001b[39m]\u001b[38;5;241m.\u001b[39mby_key()[\u001b[38;5;124m'\u001b[39m\u001b[38;5;124mcolor\u001b[39m\u001b[38;5;124m'\u001b[39m]\n",
      "File \u001b[0;32m<frozen _collections_abc>:949\u001b[0m, in \u001b[0;36mupdate\u001b[0;34m(self, other, **kwds)\u001b[0m\n",
      "File \u001b[0;32m~/miniconda3/envs/usc/lib/python3.11/site-packages/matplotlib/__init__.py:718\u001b[0m, in \u001b[0;36mRcParams.__setitem__\u001b[0;34m(self, key, val)\u001b[0m\n\u001b[1;32m    716\u001b[0m         cval \u001b[38;5;241m=\u001b[39m \u001b[38;5;28mself\u001b[39m\u001b[38;5;241m.\u001b[39mvalidate[key](val)\n\u001b[1;32m    717\u001b[0m     \u001b[38;5;28;01mexcept\u001b[39;00m \u001b[38;5;167;01mValueError\u001b[39;00m \u001b[38;5;28;01mas\u001b[39;00m ve:\n\u001b[0;32m--> 718\u001b[0m         \u001b[38;5;28;01mraise\u001b[39;00m \u001b[38;5;167;01mValueError\u001b[39;00m(\u001b[38;5;124mf\u001b[39m\u001b[38;5;124m\"\u001b[39m\u001b[38;5;124mKey \u001b[39m\u001b[38;5;132;01m{\u001b[39;00mkey\u001b[38;5;132;01m}\u001b[39;00m\u001b[38;5;124m: \u001b[39m\u001b[38;5;132;01m{\u001b[39;00mve\u001b[38;5;132;01m}\u001b[39;00m\u001b[38;5;124m\"\u001b[39m) \u001b[38;5;28;01mfrom\u001b[39;00m \u001b[38;5;28;01mNone\u001b[39;00m\n\u001b[1;32m    719\u001b[0m     \u001b[38;5;28mself\u001b[39m\u001b[38;5;241m.\u001b[39m_set(key, cval)\n\u001b[1;32m    720\u001b[0m \u001b[38;5;28;01mexcept\u001b[39;00m \u001b[38;5;167;01mKeyError\u001b[39;00m \u001b[38;5;28;01mas\u001b[39;00m err:\n",
      "\u001b[0;31mValueError\u001b[0m: Key text.latex.preamble: Could not convert ['\\\\usepackage{amsmath}'] to str"
     ]
    }
   ],
   "source": [
    "## Import packages\n",
    "import numpy as np\n",
    "import astropy.units as u\n",
    "import astropy.constants as const\n",
    "from astropy.cosmology import WMAP9 as cosmo\n",
    "import seaborn as sns\n",
    "import matplotlib.pyplot as plt\n",
    "from astropy.stats import poisson_conf_interval\n",
    "from scipy.integrate import quad, cumtrapz\n",
    "from scipy.interpolate import UnivariateSpline\n",
    "\n",
    "## Set plot parameters\n",
    "%matplotlib inline\n",
    "sns.set_context(\"paper\",font_scale=1.5)\n",
    "sns.set_style('ticks')\n",
    "sns.set_palette('colorblind')\n",
    "figparams = {'font.family': 'DejaVu Sans',\n",
    "        'font.serif':'Times',\n",
    "        'text.latex.preamble': [r'\\usepackage{amsmath}'],\n",
    "        'text.usetex':True,\n",
    "            'hatch.linewidth' : 3.0}\n",
    "plt.rcParams.update(figparams)\n",
    "cs = plt.rcParams['axes.prop_cycle'].by_key()['color']"
   ]
  },
  {
   "cell_type": "code",
   "execution_count": null,
   "metadata": {
    "collapsed": false,
    "jupyter": {
     "outputs_hidden": false
    }
   },
   "outputs": [],
   "source": [
    "### measured parameters\n",
    "mbh = 4.e8*u.Msun\n",
    "mtot_bh = 8.e8*u.Msun\n",
    "redshift = 0.2\n",
    "\n",
    "## population parameters\n",
    "lagn_min = 10**46*u.erg/u.s ## min AGN lum for this type of source\n",
    "n_arcsecsq_lowest = 1./9380. *1./u.deg**2 ## assuming our source is the only one in SDSS DR7 spec catalog\n",
    "                                        ## this is the catalog used by Mullaney 2013.\n",
    "merger_frac = 0.25 ## Hickox+ 14, Fig. 6\n",
    "\n",
    "## integration parameters for GWB\n",
    "q = 1. ## i.e. assume equal mass mergers\n",
    "max_mchirp = (1./(1+q)**2)**(3./5.)*1.e10*u.Msun \n",
    "min_mchirp = (1./(1+q)**2)**(3./5.)*1.e8*u.Msun\n",
    "zmin = 0.0\n",
    "zmax = 1.0\n",
    "\n",
    "## set up plotting region for current best pta upper limits and future limits\n",
    "freq = (np.logspace(-2,2)*1./u.yr).to(u.Hz)\n",
    "fidhz = (1./u.yr).to(u.Hz)\n",
    "ptalimit = 1.45e-15*(freq/fidhz)**(-2./3.)\n",
    "iptafuturelimit = 4.e-16*(freq/fidhz)**(-2./3.)"
   ]
  },
  {
   "cell_type": "code",
   "execution_count": 16,
   "metadata": {
    "collapsed": false,
    "jupyter": {
     "outputs_hidden": false
    }
   },
   "outputs": [],
   "source": [
    "## Define functions\n",
    "def chirp_mass(m1, m2):\n",
    "    '''\n",
    "    Finds the chirp mass given the two black hole masses\n",
    "    '''\n",
    "    return (m1*m2*(m1+m2)**(-1./3.))**(3./5.)\n",
    "\n",
    "def numdensity(number_per_square_ang_, zmin_, zmax_):\n",
    "    '''\n",
    "    Find number density of objects given number per sq angular size\n",
    "    Luckily astropy does the heavily lifting, so can use any units (as long as you include the actual astropy units)\n",
    "    Input: number of objects/sq ang, min. z, max. z\n",
    "    Output: number/Mpc**3\n",
    "    '''\n",
    "    ##first convert to number/full sky\n",
    "    num_full_sky = number_per_square_ang_*(41253.*u.deg**2)\n",
    "    ##now find total comoving volume between redshifts\n",
    "    vol = cosmo.comoving_volume(zmax_) - cosmo.comoving_volume(zmin_)\n",
    "    return (num_full_sky/vol).to(1/u.Mpc**3)\n",
    "def hc_constant_n(freq_, num_density_per_mass_, zmin_, zmax_, chirp_mass_min_, chirp_mass_max_):\n",
    "    '''\n",
    "    from Phinney 2001, eq. 11 assuming constant  n(z, M) and allowing for integration of M.\n",
    "    input: frequency, number density per unit mass of mergers today, z range, chirpmass range\n",
    "    output: characteristic strain\n",
    "    '''\n",
    "    coeffs = 3. * const.G ** (5. / 3.) / (4. * np.pi ** (1. / 3.) * const.c ** 2.)\n",
    "    numdens = num_density_per_mass_*((1+zmax_)**(2./3.)-(1+zmin_)**(2./3.))\n",
    "    massfterm = (chirp_mass_max_**(8./3.) - chirp_mass_min_**(8./3.))*freq_**(-4./3.)\n",
    "    return ((coeffs*massfterm*numdens)**(1./2.)).to('')\n",
    "def zint(nz_, zmin_, zmax_):\n",
    "    '''\n",
    "    compute integral over z for characteristic strain. \n",
    "    input: lambda function for n(z), z limits\n",
    "    outputs: integral value\n",
    "    '''\n",
    "    integral = lambda z: nz_(z)/((1+z)**(1./3.))\n",
    "    return quad(integral, zmin_, zmax_)[0]\n",
    "def hc_with_nz(freq_, nzm_, zmin_, zmax_, chirp_mass_min_, chirp_mass_max_):\n",
    "    '''\n",
    "    from Phinney 2001, eq. 11 assuming constant n(M) but varying n(z).\n",
    "    input: frequency,lambda function for n(z) [units = num density/mass],\n",
    "            z range, chirpmass range\n",
    "    output: characteristic strain\n",
    "    '''\n",
    "    coeffs = const.G**(5./3.)/(2.*np.pi**(1./3.)*const.c**2)\n",
    "    numdensz = zint(nzm_, zmin_, zmax_)*1./u.Mpc**3*1./u.Msun\n",
    "    massfterm = (chirp_mass_max_**(8./3.) - chirp_mass_min_**(8./3.))*freq_**(-4./3.)\n",
    "    return ((coeffs*massfterm*numdensz)**(1./2.)).to('')\n",
    "def massint(nzm_, mmin_, mmax_):\n",
    "    '''\n",
    "    compute integral over chirp mass for characteristic strain. \n",
    "    input: lambda function for pdf of m, chirp mass limits.\n",
    "    outputs: integral value\n",
    "    '''\n",
    "    integral = lambda m: (m)**(5./3.)*nzm_(m)\n",
    "    return quad(integral, mmin_.value, mmax_.value)[0]\n",
    "def hc_with_nzm(freq_, nzm_, massf_, zmin_, zmax_, chirp_mass_min_, chirp_mass_max):\n",
    "    '''\n",
    "    from Phinney 2001, eq. 11 assuming varying n(z,M).\n",
    "    input: frequency, number density per unit mass of mergers today, lambda function for n(z),\n",
    "            lambda function for n(M), z range, chirpmass range\n",
    "    output: characteristic strain\n",
    "    '''\n",
    "    coeffs = 4.*const.G**(5./3.)/(3.*np.pi**(1./3.)*const.c**2)\n",
    "    numdensz = zint(nzm_, zmin_, zmax_)*1./u.Mpc**3*1./u.Msun\n",
    "    massterm = massint(massf_, chirp_mass_min_, chirp_mass_max)*u.Msun**(8./3.)\n",
    "    fterm = freq_**(-4./3.)\n",
    "    return ((coeffs*fterm*numdensz*massterm)**(1./2.)).to('')"
   ]
  },
  {
   "cell_type": "markdown",
   "metadata": {},
   "source": [
    "## Case 1"
   ]
  },
  {
   "cell_type": "code",
   "execution_count": 4,
   "metadata": {
    "collapsed": false,
    "jupyter": {
     "outputs_hidden": false
    }
   },
   "outputs": [
    {
     "name": "stdout",
     "output_type": "stream",
     "text": [
      "Lowest number density is:  1.8605414725377198e-09 1 / Mpc3\n"
     ]
    }
   ],
   "source": [
    "## First, let's calculate the number density in Mpc^-3\n",
    "lowestnd = numdensity(n_arcsecsq_lowest, 0., redshift)\n",
    "print(\"Lowest number density is: \", lowestnd)"
   ]
  },
  {
   "cell_type": "code",
   "execution_count": 5,
   "metadata": {
    "collapsed": false,
    "jupyter": {
     "outputs_hidden": false
    }
   },
   "outputs": [
    {
     "name": "stdout",
     "output_type": "stream",
     "text": [
      "Total number of black holes is:  296.4394002243339\n"
     ]
    }
   ],
   "source": [
    "## How many SMBH binaries does this give us in our total integration volume?\n",
    "totn_lowest = lowestnd*cosmo.comoving_volume(zmax)\n",
    "print(\"Total number of black holes is: \", totn_lowest)"
   ]
  },
  {
   "cell_type": "code",
   "execution_count": 6,
   "metadata": {
    "collapsed": false,
    "jupyter": {
     "outputs_hidden": false
    }
   },
   "outputs": [
    {
     "data": {
      "text/latex": [
       "$[[3.2141557 \\times 10^{-10}],~\n",
       " [1.8605415 \\times 10^{-9}],~\n",
       " [6.138906 \\times 10^{-9}]] \\; \\mathrm{\\frac{1}{Mpc^{3}}}$"
      ],
      "text/plain": [
       "<Quantity [[3.21415570e-10],\n",
       "           [1.86054147e-09],\n",
       "           [6.13890600e-09]] 1 / Mpc3>"
      ]
     },
     "execution_count": 6,
     "metadata": {},
     "output_type": "execute_result"
    }
   ],
   "source": [
    "## Let's calculate the 1 sigma conf. intervals -- first just get abs. number in redshift range\n",
    "lowestnd_l, lowestnd_h = poisson_conf_interval(1.0, interval='frequentist-confidence',sigma=1)\n",
    "\n",
    "## Now multiply by num density to get the conf intervals in number density\n",
    "lowestnd_l *= lowestnd\n",
    "lowestnd_h *= lowestnd\n",
    "\n",
    "## Finally, let's stack these together.\n",
    "nd_1 = np.vstack([lowestnd_l, lowestnd, lowestnd_h])\n",
    "\n",
    "nd_1"
   ]
  },
  {
   "cell_type": "code",
   "execution_count": 7,
   "metadata": {
    "collapsed": false,
    "jupyter": {
     "outputs_hidden": false
    }
   },
   "outputs": [
    {
     "data": {
      "text/latex": [
       "$[[7.4587785 \\times 10^{-20}],~\n",
       " [4.3175776 \\times 10^{-19}],~\n",
       " [1.4245962 \\times 10^{-18}]] \\; \\mathrm{\\frac{1}{M_{\\odot}\\,Mpc^{3}}}$"
      ],
      "text/plain": [
       "<Quantity [[7.45877853e-20],\n",
       "           [4.31757763e-19],\n",
       "           [1.42459621e-18]] 1 / (Mpc3 solMass)>"
      ]
     },
     "execution_count": 7,
     "metadata": {},
     "output_type": "execute_result"
    }
   ],
   "source": [
    "## Now calculate the number density/mass for all\n",
    "DeltaM = max_mchirp - min_mchirp\n",
    "ndm_1 = nd_1/DeltaM\n",
    "ndm_1"
   ]
  },
  {
   "cell_type": "code",
   "execution_count": 8,
   "metadata": {
    "collapsed": false,
    "jupyter": {
     "outputs_hidden": false
    }
   },
   "outputs": [
    {
     "data": {
      "text/latex": [
       "$[[3.8442093 \\times 10^{-18}],~\n",
       " [9.2489673 \\times 10^{-18}],~\n",
       " [1.6800378 \\times 10^{-17}]] \\; \\mathrm{}$"
      ],
      "text/plain": [
       "<Quantity [[3.84420926e-18],\n",
       "           [9.24896726e-18],\n",
       "           [1.68003781e-17]]>"
      ]
     },
     "execution_count": 8,
     "metadata": {},
     "output_type": "execute_result"
    }
   ],
   "source": [
    "## Finally, calculate the characteristic strain\n",
    "hc_1 = hc_constant_n(fidhz, ndm_1, zmin, zmax, min_mchirp, max_mchirp)\n",
    "hc_1"
   ]
  },
  {
   "cell_type": "markdown",
   "metadata": {},
   "source": [
    "## Case 2"
   ]
  },
  {
   "cell_type": "code",
   "execution_count": 128,
   "metadata": {
    "collapsed": false,
    "jupyter": {
     "outputs_hidden": false
    }
   },
   "outputs": [],
   "source": [
    "zqso, nz1_, nz2_, nz3_ = np.loadtxt('qso2_num_density.txt', unpack=True) ## each nz gives different eddington ratio\n",
    "## nz1 = L/Ledd = 0.1\n",
    "## nz2 = L/Ledd = 0.3\n",
    "## nz3 = L/Ledd = 1.0\n",
    "nz1_ = u.Quantity(nz1_, 1./u.Mpc**3)*merger_frac\n",
    "nz2_ = u.Quantity(nz2_, 1./u.Mpc**3)*merger_frac\n",
    "nz3_ = u.Quantity(nz3_, 1./u.Mpc**3)*merger_frac\n",
    "\n",
    "## we made originally callibrated these at z=0.2, so we need to account for that here and instead callibrate at z=0.\n",
    "oh2index = np.where(zqso==0.2)\n",
    "nz1 = (nz1_[oh2index]-nz1_[0])+nz1_\n",
    "nz2 = (nz2_[oh2index]-nz2_[0])+nz2_\n",
    "nz3 = (nz3_[oh2index]-nz3_[0])+nz3_"
   ]
  },
  {
   "cell_type": "code",
   "execution_count": 18,
   "metadata": {
    "collapsed": false,
    "jupyter": {
     "outputs_hidden": false
    }
   },
   "outputs": [
    {
     "name": "stdout",
     "output_type": "stream",
     "text": [
      "Number density at z=0,  4.2175e-07 1 / Mpc3\n",
      "Total number of galaxies, 1.23e+06\n"
     ]
    }
   ],
   "source": [
    "print(\"Number density at z=0, \",nz2[0])\n",
    "print(\"Total number of galaxies, {0:.2e}\".format(np.sum(nz2)*0.02*cosmo.comoving_volume(1.0)))"
   ]
  },
  {
   "cell_type": "code",
   "execution_count": 19,
   "metadata": {
    "collapsed": false,
    "jupyter": {
     "outputs_hidden": false
    }
   },
   "outputs": [
    {
     "name": "stdout",
     "output_type": "stream",
     "text": [
      "Poisson errors 427.81826234441957 471.2053627104211\n",
      "Errors from Eddington Efficiency 2.7335000249999995e-07 1 / Mpc3 3.53999975e-07 1 / Mpc3\n"
     ]
    },
    {
     "data": {
      "text/latex": [
       "$[1.484 \\times 10^{-7},~4.2175 \\times 10^{-7},~7.7574997 \\times 10^{-7}] \\; \\mathrm{\\frac{1}{Mpc^{3}}}$"
      ],
      "text/plain": [
       "<Quantity [1.48399997e-07, 4.21750000e-07, 7.75749975e-07] 1 / Mpc3>"
      ]
     },
     "execution_count": 19,
     "metadata": {},
     "output_type": "execute_result"
    }
   ],
   "source": [
    "#### Let's calculate the 1 sigma conf. intervals\n",
    "absnumber1 = 826\n",
    "absnumber2 = 449\n",
    "absnumber3 = 158\n",
    "nz1_l, nz1_h = poisson_conf_interval(absnumber1, interval='frequentist-confidence',sigma=1)\n",
    "nz2_l, nz2_h = poisson_conf_interval(absnumber2, interval='frequentist-confidence',sigma=1)\n",
    "nz3_l, nz3_h = poisson_conf_interval(absnumber3, interval='frequentist-confidence',sigma=1)\n",
    "\n",
    "print(\"Poisson errors\", nz2_l, nz2_h)\n",
    "print(\"Errors from Eddington Efficiency\", nz2[0]-nz3[0], nz1[0]-nz2[0])\n",
    "\n",
    "## Notice that the errors associated with not knowing the Eddington efficiency are much larger than the Poisson error.\n",
    "## So, we will simply set the other eddington cases as the 1-sigma errors.\n",
    "\n",
    "nd_2 = np.vstack([nz3, nz2, nz1])\n",
    "nd_2[:,0]"
   ]
  },
  {
   "cell_type": "code",
   "execution_count": 20,
   "metadata": {
    "collapsed": false,
    "jupyter": {
     "outputs_hidden": false
    }
   },
   "outputs": [
    {
     "data": {
      "text/latex": [
       "$[3.4437744 \\times 10^{-17},~9.787142 \\times 10^{-17},~1.8002075 \\times 10^{-16}] \\; \\mathrm{\\frac{1}{M_{\\odot}\\,Mpc^{3}}}$"
      ],
      "text/plain": [
       "<Quantity [3.44377440e-17, 9.78714204e-17, 1.80020752e-16] 1 / (solMass Mpc3)>"
      ]
     },
     "execution_count": 20,
     "metadata": {},
     "output_type": "execute_result"
    }
   ],
   "source": [
    "## For this case, we are again assuming that N(M) is constant. So, we compute number density/mass the same as before\n",
    "DeltaM = max_mchirp - min_mchirp\n",
    "ndm_2 = nd_2/DeltaM\n",
    "ndm_2[:,0]"
   ]
  },
  {
   "cell_type": "code",
   "execution_count": 21,
   "metadata": {
    "collapsed": false,
    "jupyter": {
     "outputs_hidden": false
    }
   },
   "outputs": [],
   "source": [
    "### Now, let's fit a spline to our data. This will let us integrate easily.\n",
    "ndm_2_int = UnivariateSpline(zqso, ndm_2[1],s=0)\n",
    "ndm_2_l_int = UnivariateSpline(zqso, ndm_2[0],s=0)\n",
    "ndm_2_h_int = UnivariateSpline(zqso, ndm_2[2],s=0)"
   ]
  },
  {
   "cell_type": "code",
   "execution_count": 22,
   "metadata": {
    "collapsed": false,
    "jupyter": {
     "outputs_hidden": false
    }
   },
   "outputs": [
    {
     "name": "stdout",
     "output_type": "stream",
     "text": [
      "1.6520813142381866e-16\n",
      "2.7851078357508846e-16\n",
      "3.77724678034332e-16\n"
     ]
    }
   ],
   "source": [
    "## Ok, now we can *finally* get the characteristic strain for this case.\n",
    "hc_2 = hc_with_nz(fidhz, ndm_2_int, zmin, zmax, min_mchirp, max_mchirp)\n",
    "hc_2_l = hc_with_nz(fidhz, ndm_2_l_int, zmin, zmax, min_mchirp, max_mchirp)\n",
    "hc_2_h = hc_with_nz(fidhz, ndm_2_h_int, zmin, zmax, min_mchirp, max_mchirp)\n",
    "print(hc_2_l)\n",
    "print(hc_2)\n",
    "print(hc_2_h)"
   ]
  },
  {
   "cell_type": "code",
   "execution_count": 136,
   "metadata": {},
   "outputs": [
    {
     "data": {
      "text/plain": [
       "1353052494.1809802"
      ]
     },
     "execution_count": 136,
     "metadata": {},
     "output_type": "execute_result"
    }
   ],
   "source": [
    "(cosmo.comoving_volume(0.22)-cosmo.comoving_volume(0.18)).value"
   ]
  },
  {
   "cell_type": "markdown",
   "metadata": {},
   "source": [
    "### SNAP calculations"
   ]
  },
  {
   "cell_type": "code",
   "execution_count": 2,
   "metadata": {},
   "outputs": [],
   "source": [
    "from astropy.table import Table\n",
    "from astropy.io import fits\n",
    "\n",
    "# load mps/jhu catalog of mass and info\n",
    "mpajhu = Table(fits.open(\"/home/insepien/research-data/alpaka/totlgm_dr7_v5_2.fit\")[1].data).to_pandas()\n",
    "\n",
    "mpainfo =fits.open(\"/home/insepien/research-data/alpaka/gal_info_dr7_v5_2.fit\")[1].data\n",
    "z = list(mpainfo['Z'])\n",
    "z = np.array(z)"
   ]
  },
  {
   "cell_type": "code",
   "execution_count": 68,
   "metadata": {},
   "outputs": [
    {
     "name": "stdout",
     "output_type": "stream",
     "text": [
      "410 binaries in SDSS in z=0.14-0.22\n",
      "1179329 massive galaxies\n",
      "dual fraction:0.03%\n",
      "We can observe 0/50 binaries\n"
     ]
    }
   ],
   "source": [
    "# clylde+22, calculate number of binaries \n",
    "ndz_c22 = 1e-5\n",
    "f_sky = 9380/41253\n",
    "Nc22 = (ndz_c22*0.08*(cosmo.comoving_volume(0.22)-cosmo.comoving_volume(0.14)).value)*f_sky\n",
    "print(f\"{Nc22:.0f} binaries in SDSS in z=0.14-0.22\")\n",
    "\n",
    "n_massive_gal = 0.0023\n",
    "N_massive_gal = n_massive_gal*(cosmo.comoving_volume(0.22)-cosmo.comoving_volume(0.14)).value*f_sky\n",
    "f_dual = Nc22/N_massive_gal\n",
    "print(f\"{N_massive_gal:.0f} massive galaxies\")\n",
    "print(f\"dual fraction:{f_dual*100:.2f}%\")\n",
    "print(f\"We can observe {f_dual*50:.0f}/50 binaries\")"
   ]
  },
  {
   "cell_type": "code",
   "execution_count": 63,
   "metadata": {},
   "outputs": [
    {
     "data": {
      "text/plain": [
       "315.05397120000003"
      ]
     },
     "execution_count": 63,
     "metadata": {},
     "output_type": "execute_result"
    }
   ],
   "source": [
    "n_massive_gal*108**3"
   ]
  },
  {
   "cell_type": "markdown",
   "metadata": {},
   "source": [
    "## Case 3"
   ]
  },
  {
   "cell_type": "code",
   "execution_count": 23,
   "metadata": {
    "collapsed": false,
    "jupyter": {
     "outputs_hidden": false
    }
   },
   "outputs": [],
   "source": [
    "## We start with the same n(z) as in case 2.\n",
    "nd_3 = nd_2\n",
    "nd_3[:,0]\n",
    "\n",
    "nd_3_int = UnivariateSpline(zqso, nd_3[1],s=0)\n",
    "nd_3_l_int = UnivariateSpline(zqso, nd_3[0],s=0)\n",
    "nd_3_h_int = UnivariateSpline(zqso, nd_3[2],s=0)"
   ]
  },
  {
   "cell_type": "code",
   "execution_count": 24,
   "metadata": {},
   "outputs": [],
   "source": [
    "## Let's load the mass function\n",
    "logMbh,logMbhdNdMbh,lo16th,up84th = np.loadtxt('marconi_num_density.txt', unpack=True, delimiter=',')\n",
    "massmask = logMbh >= 8.\n",
    "mbhdNdMbh = 10**logMbhdNdMbh[massmask]\n",
    "mass = 10**logMbh[massmask]\n",
    "mbhdNdMbh_l = 10**lo16th[massmask]\n",
    "mbhdNdMbh_h = 10**up84th[massmask]\n",
    "\n",
    "dNdMbh = mbhdNdMbh/(mass)\n",
    "dNdMbh_l = mbhdNdMbh_l/(mass)\n",
    "dNdMbh_h = mbhdNdMbh_h/(mass)"
   ]
  },
  {
   "cell_type": "code",
   "execution_count": 25,
   "metadata": {
    "collapsed": false,
    "jupyter": {
     "outputs_hidden": false
    }
   },
   "outputs": [],
   "source": [
    "## now get p(M) -- first find normalization constant\n",
    "## we want the integral over dNdMbh = ndm_2\n",
    "norm = 1. / cumtrapz(dNdMbh, mass)[-1]\n",
    "norm_h = 1. / cumtrapz(dNdMbh_h,mass)[-1]\n",
    "norm_l = 1. / cumtrapz(dNdMbh_l,mass)[-1]\n",
    "nmbh = dNdMbh*norm\n",
    "nmbh_h = dNdMbh_h*norm_h\n",
    "nmbh_l = dNdMbh_l*norm_l\n",
    "\n",
    "## get spline\n",
    "nmbh_int = UnivariateSpline(mass, nmbh, s=0)\n",
    "nmbh_h_int = UnivariateSpline(mass, nmbh_h, s=0)\n",
    "nmbh_l_int = UnivariateSpline(mass, nmbh_l, s=0)"
   ]
  },
  {
   "cell_type": "code",
   "execution_count": 26,
   "metadata": {
    "collapsed": false,
    "jupyter": {
     "outputs_hidden": false
    }
   },
   "outputs": [
    {
     "name": "stdout",
     "output_type": "stream",
     "text": [
      "3.024921200278497e-17\n",
      "5.404153474663889e-17\n",
      "7.898502715630966e-17\n"
     ]
    }
   ],
   "source": [
    "## finally, get the characteristic strain\n",
    "hc_3 = hc_with_nzm(fidhz, nd_3_int, nmbh_int, zmin, zmax, min_mchirp, max_mchirp)\n",
    "hc_3_h = hc_with_nzm(fidhz, nd_3_h_int, nmbh_h_int, zmin, zmax, min_mchirp, max_mchirp)\n",
    "hc_3_l = hc_with_nzm(fidhz, nd_3_l_int, nmbh_l_int, zmin, zmax, min_mchirp, max_mchirp)\n",
    "print(hc_3_l)\n",
    "print(hc_3)\n",
    "print(hc_3_h)"
   ]
  },
  {
   "cell_type": "markdown",
   "metadata": {},
   "source": [
    "## Plots"
   ]
  },
  {
   "cell_type": "code",
   "execution_count": 27,
   "metadata": {
    "collapsed": false,
    "jupyter": {
     "outputs_hidden": false
    }
   },
   "outputs": [
    {
     "ename": "TypeError",
     "evalue": "only dimensionless scalar quantities can be converted to Python scalars",
     "output_type": "error",
     "traceback": [
      "\u001b[0;31m---------------------------------------------------------------------------\u001b[0m",
      "\u001b[0;31mUnitConversionError\u001b[0m                       Traceback (most recent call last)",
      "File \u001b[0;32m~/miniconda3/envs/usc/lib/python3.11/site-packages/astropy/units/quantity.py:979\u001b[0m, in \u001b[0;36mQuantity.to_value\u001b[0;34m(self, unit, equivalencies)\u001b[0m\n\u001b[1;32m    978\u001b[0m \u001b[38;5;28;01mtry\u001b[39;00m:\n\u001b[0;32m--> 979\u001b[0m     scale \u001b[38;5;241m=\u001b[39m \u001b[38;5;28;43mself\u001b[39;49m\u001b[38;5;241;43m.\u001b[39;49m\u001b[43munit\u001b[49m\u001b[38;5;241;43m.\u001b[39;49m\u001b[43m_to\u001b[49m\u001b[43m(\u001b[49m\u001b[43munit\u001b[49m\u001b[43m)\u001b[49m\n\u001b[1;32m    980\u001b[0m \u001b[38;5;28;01mexcept\u001b[39;00m \u001b[38;5;167;01mException\u001b[39;00m:\n\u001b[1;32m    981\u001b[0m     \u001b[38;5;66;03m# Short-cut failed; try default (maybe equivalencies help).\u001b[39;00m\n",
      "File \u001b[0;32m~/miniconda3/envs/usc/lib/python3.11/site-packages/astropy/units/core.py:1159\u001b[0m, in \u001b[0;36mUnitBase._to\u001b[0;34m(self, other)\u001b[0m\n\u001b[1;32m   1157\u001b[0m         \u001b[38;5;28;01mreturn\u001b[39;00m self_decomposed\u001b[38;5;241m.\u001b[39mscale \u001b[38;5;241m/\u001b[39m other_decomposed\u001b[38;5;241m.\u001b[39mscale\n\u001b[0;32m-> 1159\u001b[0m \u001b[38;5;28;01mraise\u001b[39;00m UnitConversionError(\u001b[38;5;124mf\u001b[39m\u001b[38;5;124m\"\u001b[39m\u001b[38;5;124m'\u001b[39m\u001b[38;5;132;01m{\u001b[39;00m\u001b[38;5;28mself\u001b[39m\u001b[38;5;132;01m!r}\u001b[39;00m\u001b[38;5;124m'\u001b[39m\u001b[38;5;124m is not a scaled version of \u001b[39m\u001b[38;5;124m'\u001b[39m\u001b[38;5;132;01m{\u001b[39;00mother\u001b[38;5;132;01m!r}\u001b[39;00m\u001b[38;5;124m'\u001b[39m\u001b[38;5;124m\"\u001b[39m)\n",
      "\u001b[0;31mUnitConversionError\u001b[0m: 'Unit(\"1 / Mpc3\")' is not a scaled version of 'Unit(dimensionless)'",
      "\nDuring handling of the above exception, another exception occurred:\n",
      "\u001b[0;31mUnitConversionError\u001b[0m                       Traceback (most recent call last)",
      "File \u001b[0;32m~/miniconda3/envs/usc/lib/python3.11/site-packages/astropy/units/quantity.py:1347\u001b[0m, in \u001b[0;36mQuantity.__float__\u001b[0;34m(self)\u001b[0m\n\u001b[1;32m   1346\u001b[0m \u001b[38;5;28;01mtry\u001b[39;00m:\n\u001b[0;32m-> 1347\u001b[0m     \u001b[38;5;28;01mreturn\u001b[39;00m \u001b[38;5;28mfloat\u001b[39m(\u001b[38;5;28;43mself\u001b[39;49m\u001b[38;5;241;43m.\u001b[39;49m\u001b[43mto_value\u001b[49m\u001b[43m(\u001b[49m\u001b[43mdimensionless_unscaled\u001b[49m\u001b[43m)\u001b[49m)\n\u001b[1;32m   1348\u001b[0m \u001b[38;5;28;01mexcept\u001b[39;00m (UnitsError, \u001b[38;5;167;01mTypeError\u001b[39;00m):\n",
      "File \u001b[0;32m~/miniconda3/envs/usc/lib/python3.11/site-packages/astropy/units/quantity.py:982\u001b[0m, in \u001b[0;36mQuantity.to_value\u001b[0;34m(self, unit, equivalencies)\u001b[0m\n\u001b[1;32m    980\u001b[0m \u001b[38;5;28;01mexcept\u001b[39;00m \u001b[38;5;167;01mException\u001b[39;00m:\n\u001b[1;32m    981\u001b[0m     \u001b[38;5;66;03m# Short-cut failed; try default (maybe equivalencies help).\u001b[39;00m\n\u001b[0;32m--> 982\u001b[0m     value \u001b[38;5;241m=\u001b[39m \u001b[38;5;28;43mself\u001b[39;49m\u001b[38;5;241;43m.\u001b[39;49m\u001b[43m_to_value\u001b[49m\u001b[43m(\u001b[49m\u001b[43munit\u001b[49m\u001b[43m,\u001b[49m\u001b[43m \u001b[49m\u001b[43mequivalencies\u001b[49m\u001b[43m)\u001b[49m\n\u001b[1;32m    983\u001b[0m \u001b[38;5;28;01melse\u001b[39;00m:\n",
      "File \u001b[0;32m~/miniconda3/envs/usc/lib/python3.11/site-packages/astropy/units/quantity.py:888\u001b[0m, in \u001b[0;36mQuantity._to_value\u001b[0;34m(self, unit, equivalencies)\u001b[0m\n\u001b[1;32m    886\u001b[0m \u001b[38;5;28;01mif\u001b[39;00m \u001b[38;5;129;01mnot\u001b[39;00m \u001b[38;5;28mself\u001b[39m\u001b[38;5;241m.\u001b[39mdtype\u001b[38;5;241m.\u001b[39mnames \u001b[38;5;129;01mor\u001b[39;00m \u001b[38;5;28misinstance\u001b[39m(\u001b[38;5;28mself\u001b[39m\u001b[38;5;241m.\u001b[39munit, StructuredUnit):\n\u001b[1;32m    887\u001b[0m     \u001b[38;5;66;03m# Standard path, let unit to do work.\u001b[39;00m\n\u001b[0;32m--> 888\u001b[0m     \u001b[38;5;28;01mreturn\u001b[39;00m \u001b[38;5;28;43mself\u001b[39;49m\u001b[38;5;241;43m.\u001b[39;49m\u001b[43munit\u001b[49m\u001b[38;5;241;43m.\u001b[39;49m\u001b[43mto\u001b[49m\u001b[43m(\u001b[49m\n\u001b[1;32m    889\u001b[0m \u001b[43m        \u001b[49m\u001b[43munit\u001b[49m\u001b[43m,\u001b[49m\u001b[43m \u001b[49m\u001b[38;5;28;43mself\u001b[39;49m\u001b[38;5;241;43m.\u001b[39;49m\u001b[43mview\u001b[49m\u001b[43m(\u001b[49m\u001b[43mnp\u001b[49m\u001b[38;5;241;43m.\u001b[39;49m\u001b[43mndarray\u001b[49m\u001b[43m)\u001b[49m\u001b[43m,\u001b[49m\u001b[43m \u001b[49m\u001b[43mequivalencies\u001b[49m\u001b[38;5;241;43m=\u001b[39;49m\u001b[43mequivalencies\u001b[49m\n\u001b[1;32m    890\u001b[0m \u001b[43m    \u001b[49m\u001b[43m)\u001b[49m\n\u001b[1;32m    892\u001b[0m \u001b[38;5;28;01melse\u001b[39;00m:\n\u001b[1;32m    893\u001b[0m     \u001b[38;5;66;03m# The .to() method of a simple unit cannot convert a structured\u001b[39;00m\n\u001b[1;32m    894\u001b[0m     \u001b[38;5;66;03m# dtype, so we work around it, by recursing.\u001b[39;00m\n\u001b[1;32m    895\u001b[0m     \u001b[38;5;66;03m# TODO: deprecate this?\u001b[39;00m\n\u001b[1;32m    896\u001b[0m     \u001b[38;5;66;03m# Convert simple to Structured on initialization?\u001b[39;00m\n",
      "File \u001b[0;32m~/miniconda3/envs/usc/lib/python3.11/site-packages/astropy/units/core.py:1195\u001b[0m, in \u001b[0;36mUnitBase.to\u001b[0;34m(self, other, value, equivalencies)\u001b[0m\n\u001b[1;32m   1194\u001b[0m \u001b[38;5;28;01melse\u001b[39;00m:\n\u001b[0;32m-> 1195\u001b[0m     \u001b[38;5;28;01mreturn\u001b[39;00m \u001b[38;5;28;43mself\u001b[39;49m\u001b[38;5;241;43m.\u001b[39;49m\u001b[43m_get_converter\u001b[49m\u001b[43m(\u001b[49m\u001b[43mUnit\u001b[49m\u001b[43m(\u001b[49m\u001b[43mother\u001b[49m\u001b[43m)\u001b[49m\u001b[43m,\u001b[49m\u001b[43m \u001b[49m\u001b[43mequivalencies\u001b[49m\u001b[43m)\u001b[49m(value)\n",
      "File \u001b[0;32m~/miniconda3/envs/usc/lib/python3.11/site-packages/astropy/units/core.py:1124\u001b[0m, in \u001b[0;36mUnitBase._get_converter\u001b[0;34m(self, other, equivalencies)\u001b[0m\n\u001b[1;32m   1122\u001b[0m                 \u001b[38;5;28;01mreturn\u001b[39;00m \u001b[38;5;28;01mlambda\u001b[39;00m v: b(converter(v))\n\u001b[0;32m-> 1124\u001b[0m \u001b[38;5;28;01mraise\u001b[39;00m exc\n",
      "File \u001b[0;32m~/miniconda3/envs/usc/lib/python3.11/site-packages/astropy/units/core.py:1107\u001b[0m, in \u001b[0;36mUnitBase._get_converter\u001b[0;34m(self, other, equivalencies)\u001b[0m\n\u001b[1;32m   1106\u001b[0m \u001b[38;5;28;01mtry\u001b[39;00m:\n\u001b[0;32m-> 1107\u001b[0m     \u001b[38;5;28;01mreturn\u001b[39;00m \u001b[38;5;28;43mself\u001b[39;49m\u001b[38;5;241;43m.\u001b[39;49m\u001b[43m_apply_equivalencies\u001b[49m\u001b[43m(\u001b[49m\n\u001b[1;32m   1108\u001b[0m \u001b[43m        \u001b[49m\u001b[38;5;28;43mself\u001b[39;49m\u001b[43m,\u001b[49m\u001b[43m \u001b[49m\u001b[43mother\u001b[49m\u001b[43m,\u001b[49m\u001b[43m \u001b[49m\u001b[38;5;28;43mself\u001b[39;49m\u001b[38;5;241;43m.\u001b[39;49m\u001b[43m_normalize_equivalencies\u001b[49m\u001b[43m(\u001b[49m\u001b[43mequivalencies\u001b[49m\u001b[43m)\u001b[49m\n\u001b[1;32m   1109\u001b[0m \u001b[43m    \u001b[49m\u001b[43m)\u001b[49m\n\u001b[1;32m   1110\u001b[0m \u001b[38;5;28;01mexcept\u001b[39;00m UnitsError \u001b[38;5;28;01mas\u001b[39;00m exc:\n\u001b[1;32m   1111\u001b[0m     \u001b[38;5;66;03m# Last hope: maybe other knows how to do it?\u001b[39;00m\n\u001b[1;32m   1112\u001b[0m     \u001b[38;5;66;03m# We assume the equivalencies have the unit itself as first item.\u001b[39;00m\n\u001b[1;32m   1113\u001b[0m     \u001b[38;5;66;03m# TODO: maybe better for other to have a `_back_converter` method?\u001b[39;00m\n",
      "File \u001b[0;32m~/miniconda3/envs/usc/lib/python3.11/site-packages/astropy/units/core.py:1085\u001b[0m, in \u001b[0;36mUnitBase._apply_equivalencies\u001b[0;34m(self, unit, other, equivalencies)\u001b[0m\n\u001b[1;32m   1083\u001b[0m other_str \u001b[38;5;241m=\u001b[39m get_err_str(other)\n\u001b[0;32m-> 1085\u001b[0m \u001b[38;5;28;01mraise\u001b[39;00m UnitConversionError(\u001b[38;5;124mf\u001b[39m\u001b[38;5;124m\"\u001b[39m\u001b[38;5;132;01m{\u001b[39;00munit_str\u001b[38;5;132;01m}\u001b[39;00m\u001b[38;5;124m and \u001b[39m\u001b[38;5;132;01m{\u001b[39;00mother_str\u001b[38;5;132;01m}\u001b[39;00m\u001b[38;5;124m are not convertible\u001b[39m\u001b[38;5;124m\"\u001b[39m)\n",
      "\u001b[0;31mUnitConversionError\u001b[0m: '1 / Mpc3' (number density) and '' (dimensionless) are not convertible",
      "\nDuring handling of the above exception, another exception occurred:\n",
      "\u001b[0;31mTypeError\u001b[0m                                 Traceback (most recent call last)",
      "Cell \u001b[0;32mIn[27], line 15\u001b[0m\n\u001b[1;32m     12\u001b[0m zlen \u001b[38;5;241m=\u001b[39m \u001b[38;5;28mlen\u001b[39m(zqso[zmask])\n\u001b[1;32m     14\u001b[0m \u001b[38;5;66;03m##### Number density v redshift\u001b[39;00m\n\u001b[0;32m---> 15\u001b[0m \u001b[43max\u001b[49m\u001b[43m[\u001b[49m\u001b[38;5;241;43m0\u001b[39;49m\u001b[43m]\u001b[49m\u001b[38;5;241;43m.\u001b[39;49m\u001b[43mfill_between\u001b[49m\u001b[43m(\u001b[49m\u001b[43mzqso\u001b[49m\u001b[43m[\u001b[49m\u001b[43mzmask\u001b[49m\u001b[43m]\u001b[49m\u001b[43m,\u001b[49m\u001b[43m \u001b[49m\u001b[43mnd_2\u001b[49m\u001b[43m[\u001b[49m\u001b[38;5;241;43m0\u001b[39;49m\u001b[43m]\u001b[49m\u001b[43m[\u001b[49m\u001b[43mzmask\u001b[49m\u001b[43m]\u001b[49m\u001b[43m,\u001b[49m\u001b[43m \u001b[49m\u001b[43mnd_2\u001b[49m\u001b[43m[\u001b[49m\u001b[38;5;241;43m2\u001b[39;49m\u001b[43m]\u001b[49m\u001b[43m[\u001b[49m\u001b[43mzmask\u001b[49m\u001b[43m]\u001b[49m\u001b[43m,\u001b[49m\u001b[43m \u001b[49m\u001b[43medgecolor\u001b[49m\u001b[38;5;241;43m=\u001b[39;49m\u001b[38;5;124;43m'\u001b[39;49m\u001b[38;5;124;43mblack\u001b[39;49m\u001b[38;5;124;43m'\u001b[39;49m\u001b[43m,\u001b[49m\u001b[43mhatch\u001b[49m\u001b[38;5;241;43m=\u001b[39;49m\u001b[38;5;124;43m'\u001b[39;49m\u001b[38;5;130;43;01m\\\\\u001b[39;49;00m\u001b[38;5;124;43m'\u001b[39;49m\u001b[43m,\u001b[49m\u001b[43m \u001b[49m\u001b[43mlinewidth\u001b[49m\u001b[38;5;241;43m=\u001b[39;49m\u001b[38;5;241;43m3\u001b[39;49m\u001b[43m,\u001b[49m\u001b[43m \u001b[49m\u001b[43mfacecolor\u001b[49m\u001b[38;5;241;43m=\u001b[39;49m\u001b[38;5;124;43m'\u001b[39;49m\u001b[38;5;124;43mnone\u001b[39;49m\u001b[38;5;124;43m'\u001b[39;49m\u001b[43m)\u001b[49m\n\u001b[1;32m     16\u001b[0m ax[\u001b[38;5;241m0\u001b[39m]\u001b[38;5;241m.\u001b[39mfill_between(zqso[zmask], nd_2[\u001b[38;5;241m0\u001b[39m][zmask], nd_2[\u001b[38;5;241m2\u001b[39m][zmask], edgecolor\u001b[38;5;241m=\u001b[39mcs[\u001b[38;5;241m2\u001b[39m], facecolor\u001b[38;5;241m=\u001b[39m\u001b[38;5;124m'\u001b[39m\u001b[38;5;124mnone\u001b[39m\u001b[38;5;124m'\u001b[39m, linewidth\u001b[38;5;241m=\u001b[39m\u001b[38;5;241m3\u001b[39m, hatch\u001b[38;5;241m=\u001b[39m\u001b[38;5;124m'\u001b[39m\u001b[38;5;124m/\u001b[39m\u001b[38;5;124m'\u001b[39m)\n\u001b[1;32m     17\u001b[0m ax[\u001b[38;5;241m0\u001b[39m]\u001b[38;5;241m.\u001b[39mplot(zqso[zmask], nd_2[\u001b[38;5;241m1\u001b[39m][zmask], color\u001b[38;5;241m=\u001b[39mcs[\u001b[38;5;241m2\u001b[39m],label\u001b[38;5;241m=\u001b[39m\u001b[38;5;124m'\u001b[39m\u001b[38;5;124mOptimistic\u001b[39m\u001b[38;5;124m'\u001b[39m, linewidth\u001b[38;5;241m=\u001b[39m\u001b[38;5;241m3\u001b[39m)\n",
      "File \u001b[0;32m~/miniconda3/envs/usc/lib/python3.11/site-packages/matplotlib/__init__.py:1442\u001b[0m, in \u001b[0;36m_preprocess_data.<locals>.inner\u001b[0;34m(ax, data, *args, **kwargs)\u001b[0m\n\u001b[1;32m   1439\u001b[0m \u001b[38;5;129m@functools\u001b[39m\u001b[38;5;241m.\u001b[39mwraps(func)\n\u001b[1;32m   1440\u001b[0m \u001b[38;5;28;01mdef\u001b[39;00m \u001b[38;5;21minner\u001b[39m(ax, \u001b[38;5;241m*\u001b[39margs, data\u001b[38;5;241m=\u001b[39m\u001b[38;5;28;01mNone\u001b[39;00m, \u001b[38;5;241m*\u001b[39m\u001b[38;5;241m*\u001b[39mkwargs):\n\u001b[1;32m   1441\u001b[0m     \u001b[38;5;28;01mif\u001b[39;00m data \u001b[38;5;129;01mis\u001b[39;00m \u001b[38;5;28;01mNone\u001b[39;00m:\n\u001b[0;32m-> 1442\u001b[0m         \u001b[38;5;28;01mreturn\u001b[39;00m \u001b[43mfunc\u001b[49m\u001b[43m(\u001b[49m\u001b[43max\u001b[49m\u001b[43m,\u001b[49m\u001b[43m \u001b[49m\u001b[38;5;241;43m*\u001b[39;49m\u001b[38;5;28;43mmap\u001b[39;49m\u001b[43m(\u001b[49m\u001b[43msanitize_sequence\u001b[49m\u001b[43m,\u001b[49m\u001b[43m \u001b[49m\u001b[43margs\u001b[49m\u001b[43m)\u001b[49m\u001b[43m,\u001b[49m\u001b[43m \u001b[49m\u001b[38;5;241;43m*\u001b[39;49m\u001b[38;5;241;43m*\u001b[39;49m\u001b[43mkwargs\u001b[49m\u001b[43m)\u001b[49m\n\u001b[1;32m   1444\u001b[0m     bound \u001b[38;5;241m=\u001b[39m new_sig\u001b[38;5;241m.\u001b[39mbind(ax, \u001b[38;5;241m*\u001b[39margs, \u001b[38;5;241m*\u001b[39m\u001b[38;5;241m*\u001b[39mkwargs)\n\u001b[1;32m   1445\u001b[0m     auto_label \u001b[38;5;241m=\u001b[39m (bound\u001b[38;5;241m.\u001b[39marguments\u001b[38;5;241m.\u001b[39mget(label_namer)\n\u001b[1;32m   1446\u001b[0m                   \u001b[38;5;129;01mor\u001b[39;00m bound\u001b[38;5;241m.\u001b[39mkwargs\u001b[38;5;241m.\u001b[39mget(label_namer))\n",
      "File \u001b[0;32m~/miniconda3/envs/usc/lib/python3.11/site-packages/matplotlib/axes/_axes.py:5431\u001b[0m, in \u001b[0;36mAxes.fill_between\u001b[0;34m(self, x, y1, y2, where, interpolate, step, **kwargs)\u001b[0m\n\u001b[1;32m   5429\u001b[0m \u001b[38;5;28;01mdef\u001b[39;00m \u001b[38;5;21mfill_between\u001b[39m(\u001b[38;5;28mself\u001b[39m, x, y1, y2\u001b[38;5;241m=\u001b[39m\u001b[38;5;241m0\u001b[39m, where\u001b[38;5;241m=\u001b[39m\u001b[38;5;28;01mNone\u001b[39;00m, interpolate\u001b[38;5;241m=\u001b[39m\u001b[38;5;28;01mFalse\u001b[39;00m,\n\u001b[1;32m   5430\u001b[0m                  step\u001b[38;5;241m=\u001b[39m\u001b[38;5;28;01mNone\u001b[39;00m, \u001b[38;5;241m*\u001b[39m\u001b[38;5;241m*\u001b[39mkwargs):\n\u001b[0;32m-> 5431\u001b[0m     \u001b[38;5;28;01mreturn\u001b[39;00m \u001b[38;5;28;43mself\u001b[39;49m\u001b[38;5;241;43m.\u001b[39;49m\u001b[43m_fill_between_x_or_y\u001b[49m\u001b[43m(\u001b[49m\n\u001b[1;32m   5432\u001b[0m \u001b[43m        \u001b[49m\u001b[38;5;124;43m\"\u001b[39;49m\u001b[38;5;124;43mx\u001b[39;49m\u001b[38;5;124;43m\"\u001b[39;49m\u001b[43m,\u001b[49m\u001b[43m \u001b[49m\u001b[43mx\u001b[49m\u001b[43m,\u001b[49m\u001b[43m \u001b[49m\u001b[43my1\u001b[49m\u001b[43m,\u001b[49m\u001b[43m \u001b[49m\u001b[43my2\u001b[49m\u001b[43m,\u001b[49m\n\u001b[1;32m   5433\u001b[0m \u001b[43m        \u001b[49m\u001b[43mwhere\u001b[49m\u001b[38;5;241;43m=\u001b[39;49m\u001b[43mwhere\u001b[49m\u001b[43m,\u001b[49m\u001b[43m \u001b[49m\u001b[43minterpolate\u001b[49m\u001b[38;5;241;43m=\u001b[39;49m\u001b[43minterpolate\u001b[49m\u001b[43m,\u001b[49m\u001b[43m \u001b[49m\u001b[43mstep\u001b[49m\u001b[38;5;241;43m=\u001b[39;49m\u001b[43mstep\u001b[49m\u001b[43m,\u001b[49m\u001b[43m \u001b[49m\u001b[38;5;241;43m*\u001b[39;49m\u001b[38;5;241;43m*\u001b[39;49m\u001b[43mkwargs\u001b[49m\u001b[43m)\u001b[49m\n",
      "File \u001b[0;32m~/miniconda3/envs/usc/lib/python3.11/site-packages/matplotlib/axes/_axes.py:5404\u001b[0m, in \u001b[0;36mAxes._fill_between_x_or_y\u001b[0;34m(self, ind_dir, ind, dep1, dep2, where, interpolate, step, **kwargs)\u001b[0m\n\u001b[1;32m   5401\u001b[0m     start \u001b[38;5;241m=\u001b[39m indslice[\u001b[38;5;241m0\u001b[39m], dep2slice[\u001b[38;5;241m0\u001b[39m]\n\u001b[1;32m   5402\u001b[0m     end \u001b[38;5;241m=\u001b[39m indslice[\u001b[38;5;241m-\u001b[39m\u001b[38;5;241m1\u001b[39m], dep2slice[\u001b[38;5;241m-\u001b[39m\u001b[38;5;241m1\u001b[39m]\n\u001b[0;32m-> 5404\u001b[0m \u001b[43mpts\u001b[49m\u001b[43m[\u001b[49m\u001b[38;5;241;43m0\u001b[39;49m\u001b[43m]\u001b[49m \u001b[38;5;241m=\u001b[39m start\n\u001b[1;32m   5405\u001b[0m pts[N \u001b[38;5;241m+\u001b[39m \u001b[38;5;241m1\u001b[39m] \u001b[38;5;241m=\u001b[39m end\n\u001b[1;32m   5407\u001b[0m pts[\u001b[38;5;241m1\u001b[39m:N\u001b[38;5;241m+\u001b[39m\u001b[38;5;241m1\u001b[39m, \u001b[38;5;241m0\u001b[39m] \u001b[38;5;241m=\u001b[39m indslice\n",
      "File \u001b[0;32m~/miniconda3/envs/usc/lib/python3.11/site-packages/astropy/units/quantity.py:1349\u001b[0m, in \u001b[0;36mQuantity.__float__\u001b[0;34m(self)\u001b[0m\n\u001b[1;32m   1347\u001b[0m     \u001b[38;5;28;01mreturn\u001b[39;00m \u001b[38;5;28mfloat\u001b[39m(\u001b[38;5;28mself\u001b[39m\u001b[38;5;241m.\u001b[39mto_value(dimensionless_unscaled))\n\u001b[1;32m   1348\u001b[0m \u001b[38;5;28;01mexcept\u001b[39;00m (UnitsError, \u001b[38;5;167;01mTypeError\u001b[39;00m):\n\u001b[0;32m-> 1349\u001b[0m     \u001b[38;5;28;01mraise\u001b[39;00m \u001b[38;5;167;01mTypeError\u001b[39;00m(\n\u001b[1;32m   1350\u001b[0m         \u001b[38;5;124m\"\u001b[39m\u001b[38;5;124monly dimensionless scalar quantities can be \u001b[39m\u001b[38;5;124m\"\u001b[39m\n\u001b[1;32m   1351\u001b[0m         \u001b[38;5;124m\"\u001b[39m\u001b[38;5;124mconverted to Python scalars\u001b[39m\u001b[38;5;124m\"\u001b[39m\n\u001b[1;32m   1352\u001b[0m     )\n",
      "\u001b[0;31mTypeError\u001b[0m: only dimensionless scalar quantities can be converted to Python scalars"
     ]
    },
    {
     "data": {
      "image/png": "[encoded data removed]",
      "text/plain": [
       "<Figure size 3000x800 with 3 Axes>"
      ]
     },
     "metadata": {},
     "output_type": "display_data"
    }
   ],
   "source": [
    "f, ax = plt.subplots(1,3,figsize=(30,8))\n",
    "fsize = 36\n",
    "legendfsize = 24\n",
    "fsize2 = 20\n",
    "ticksize = 28\n",
    "ax[0].tick_params(labelsize = ticksize)\n",
    "ax[1].tick_params(labelsize = ticksize)\n",
    "ax[2].tick_params(labelsize = ticksize)\n",
    "\n",
    "## for n(z) plot\n",
    "zmask = zqso<=1.0\n",
    "zlen = len(zqso[zmask])\n",
    "\n",
    "##### Number density v redshift\n",
    "ax[0].fill_between(zqso[zmask], nd_2[0][zmask], nd_2[2][zmask], edgecolor='black',hatch='\\\\', linewidth=3, facecolor='none')\n",
    "ax[0].fill_between(zqso[zmask], nd_2[0][zmask], nd_2[2][zmask], edgecolor=cs[2], facecolor='none', linewidth=3, hatch='/')\n",
    "ax[0].plot(zqso[zmask], nd_2[1][zmask], color=cs[2],label='Optimistic', linewidth=3)\n",
    "ax[0].fill_between(zqso[zmask], nd_2[0][zmask], nd_2[2][zmask], color=cs[2], alpha=0.4)\n",
    "ax[0].plot(zqso[zmask], nd_2[1][zmask], color='black', linestyle='solid', label='Best', linewidth=3)\n",
    "ax[0].fill_between(zqso[zmask], nd_2[0][zmask], nd_2[2][zmask], color='none', edgecolor='black', hatch='\\\\')\n",
    "ax[0].plot(zqso[zmask], nd_1[1]*np.ones((zlen)),c=cs[5], label='Pessimistic', linewidth=3)\n",
    "ax[0].fill_between(zqso[zmask], nd_1[0]*np.ones((zlen)), nd_1[2]*np.ones((zlen)), color=cs[5], alpha=0.3)\n",
    "ax[0].legend(fontsize=legendfsize)\n",
    "ax[0].set_yscale('log')\n",
    "ax[0].set_xlabel(r'Redshift',fontsize=fsize)\n",
    "ax[0].set_ylabel(r'$n(z)\\ [\\rm{\\#/Mpc}^3]$',fontsize=fsize)\n",
    "\n",
    "##### pdf for mass\n",
    "Mwidth = (1./ DeltaM.value) * np.ones((len(mass)))\n",
    "ax[1].plot(mass, Mwidth, color=cs[2],label='Optimistic', linewidth=7)\n",
    "ax[1].plot(mass, Mwidth, color=cs[5], label='Pessimistic', linewidth=7, linestyle='dashed')\n",
    "ax[1].plot(mass, nmbh, \n",
    "               color='black', label='Best', linewidth=3)\n",
    "ax[1].fill_between(mass,nmbh_l, nmbh_h, color='black',\n",
    "                  alpha =0.3)\n",
    "ax[1].set_xlabel(r'$M_{\\rm{BH}}\\ [M_{\\odot}]$',fontsize=fsize)\n",
    "ax[1].set_ylabel(r'$p(M_{\\rm{BH}})$',fontsize=fsize);\n",
    "ax[1].set_xscale('log')\n",
    "ax[1].set_yscale('log')\n",
    "ax[1].set_xlim([1e8, 1e10])\n",
    "handles, labels = ax[1].get_legend_handles_labels()\n",
    "order = [1,2,0]\n",
    "ax[1].legend([handles[idx] for idx in order],[labels[idx] for idx in order],fontsize=legendfsize)\n",
    "\n",
    "# ##### LIMITS\n",
    "floor = 1.e-16*(freq/fidhz)**(-2./3.)\n",
    "# ax[2].loglog(freq, ptalimit, color=cs[3],linewidth=3)\n",
    "# ax[2].loglog(freq, 1.e-16*(freq/fidhz)**(-2./3.), color='black', linestyle='dashed',  linewidth=3)\n",
    "# ax[2].text(1.1e-9, 1.05e-15,'Theoretical GWB Floor', fontsize=fsize2, rotation=-20);\n",
    "ax[2].errorbar(fidhz.value, hc_2, yerr=[[(hc_2-hc_2_l)], [(hc_2_h-hc_2)]], fmt='o', color=cs[2],markersize=10, label='Optimistic')\n",
    "ax[2].errorbar(fidhz.value, hc_3, yerr=[[(hc_3-hc_3_l)],[(hc_3_h-hc_3)]], fmt='o',markersize=10, color='black',\n",
    "             label='Best')\n",
    "ax[2].errorbar(fidhz.value, hc_1[1],yerr=[[hc_1[1]-hc_1[0]],[hc_1[2]-hc_1[1]]], fmt='o',\n",
    "             markersize=10, color=cs[5], label='Pessimistic')\n",
    "\n",
    "ax[2].scatter(fidhz.value, 6.1e-17, color=cs[2], marker='^', s=150,\n",
    "              facecolor='none', linewidth=3)\n",
    "ax[2].annotate(\"OJ 287\", xy=(fidhz.value, 6.1e-17), xytext=(-5, 0),\n",
    "               textcoords=\"offset points\", fontsize=fsize2, ha='right', va='center')\n",
    "\n",
    "ax[2].loglog(freq, ptalimit, color=cs[3],linewidth=3)\n",
    "ax[2].fill_between(freq, ptalimit, 1.e-12*np.ones(len(freq)),alpha=0.3, color=cs[3])\n",
    "ax[2].annotate(\"NANOGrav Upper Limit\", xy=(freq.value[19], ptalimit.value[19]), xytext=(3, 3),\n",
    "               textcoords=\"offset points\", rotation_mode='anchor',\n",
    "               rotation=-21, fontsize=fsize2)\n",
    "\n",
    "ax[2].loglog(freq, floor, color='black', linestyle='dashed',  linewidth=3)\n",
    "ax[2].annotate(\"Theoretical GWB Floor\", xy=(freq.value[7], floor.value[7]),\n",
    "               xytext=(3, 3), textcoords=\"offset points\", \n",
    "                rotation_mode='anchor', rotation=-21, fontsize=fsize2)\n",
    "\n",
    "ax[2].loglog(freq, iptafuturelimit, c=cs[5],linewidth=3, linestyle='dashed')\n",
    "ax[2].annotate(r'IPTA 95\\% Chance\\\\ of Detection by 2024',\n",
    "               xy=(freq.value[7], iptafuturelimit.value[7]), xytext=(3, 3),\n",
    "               textcoords=\"offset points\", rotation_mode='anchor', rotation=-21,\n",
    "               fontsize=fsize2)\n",
    "# ax[2].legend(loc='lower right', frameon=True, framealpha=1.0, edgecolor='black', fontsize=legendfsize)\n",
    "ax[2].legend(loc='lower right',fontsize=legendfsize)\n",
    "ax[2].set_xlabel(r'Frequency [Hz]',fontsize=fsize)\n",
    "ax[2].set_ylabel(r'Characteristic Strain, $h_c(f)$',fontsize=fsize)\n",
    "ax[2].set_xlim([1.e-9, 5.e-7])\n",
    "ax[2].set_ylim([2.e-18, 1.e-14])\n",
    "plt.tight_layout()\n",
    "plt.savefig('stochasticgwb_limits_3panel.png', dpi=500)"
   ]
  },
  {
   "cell_type": "code",
   "execution_count": null,
   "metadata": {},
   "outputs": [],
   "source": []
  }
 ],
 "metadata": {
  "kernelspec": {
   "display_name": "usc",
   "language": "python",
   "name": "python3"
  },
  "language_info": {
   "codemirror_mode": {
    "name": "ipython",
    "version": 3
   },
   "file_extension": ".py",
   "mimetype": "text/x-python",
   "name": "python",
   "nbconvert_exporter": "python",
   "pygments_lexer": "ipython3",
   "version": "3.11.3"
  }
 },
 "nbformat": 4,
 "nbformat_minor": 4
}
